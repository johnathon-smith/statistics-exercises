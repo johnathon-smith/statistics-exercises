{
 "cells": [
  {
   "cell_type": "markdown",
   "id": "6d344d05",
   "metadata": {},
   "source": [
    "### For each of the following questions, formulate a null and alternative hypothesis (be as specific as you can be), then give an example of what a true positive, true negative, type I and type II errors would look like. Note that some of the questions are intentionally phrased in a vague way. It is your job to reword these as more precise questions that could be tested."
   ]
  },
  {
   "cell_type": "markdown",
   "id": "d1a14247",
   "metadata": {},
   "source": [
    "### Has the network latency gone up since we switched internet service providers?"
   ]
  },
  {
   "cell_type": "markdown",
   "id": "3c1eac2c",
   "metadata": {},
   "source": [
    "$H_0$: Network latency has stayed the same or decreased since we switched internet service providers"
   ]
  },
  {
   "cell_type": "markdown",
   "id": "12e1d7e6",
   "metadata": {},
   "source": [
    "$H_a$: Network latency has increased since we switched internet service providers."
   ]
  },
  {
   "cell_type": "markdown",
   "id": "e84c7a75",
   "metadata": {},
   "source": [
    "True Positive: Rejecting the null hypothesis when the network latency did actually increase."
   ]
  },
  {
   "cell_type": "markdown",
   "id": "2703c460",
   "metadata": {},
   "source": [
    "True Negative: Accepting the null hypothesis when the network latency actually stayed the same or decreased."
   ]
  },
  {
   "cell_type": "markdown",
   "id": "de0ec77a",
   "metadata": {},
   "source": [
    "Type 1 Error: Rejecting the null hypothesis when the network latency actually stayed the same or decreased."
   ]
  },
  {
   "cell_type": "markdown",
   "id": "aa46d143",
   "metadata": {},
   "source": [
    "Type 2 Error: Accepting the null hypothesis when the network latency actually increased."
   ]
  },
  {
   "cell_type": "markdown",
   "id": "e6bf23f8",
   "metadata": {},
   "source": [
    "### Is the website redesign any good?"
   ]
  },
  {
   "cell_type": "markdown",
   "id": "0dfb95d3",
   "metadata": {},
   "source": [
    "$H_0$: Website performance is the same after the redesign."
   ]
  },
  {
   "cell_type": "markdown",
   "id": "bae4b9d2",
   "metadata": {},
   "source": [
    "$H_a$: Website performance is not the same after the redesign."
   ]
  },
  {
   "cell_type": "markdown",
   "id": "1c7042a0",
   "metadata": {},
   "source": [
    "True Positive: Accepting the null hypothesis when website performance actually is the same after the redesign."
   ]
  },
  {
   "cell_type": "markdown",
   "id": "a32498ce",
   "metadata": {},
   "source": [
    "True Negative: Rejecting the null hypothesis when the website performance actually is different after the redesign."
   ]
  },
  {
   "cell_type": "markdown",
   "id": "36ee211b",
   "metadata": {},
   "source": [
    "Type 1 Error: Rejecting the null hypothesis when website performance did not actually change after the redesign."
   ]
  },
  {
   "cell_type": "markdown",
   "id": "5c13d804",
   "metadata": {},
   "source": [
    "Type 2 Error: Accepting the null hypothesis when the website performance really did change after the redesign."
   ]
  },
  {
   "cell_type": "markdown",
   "id": "b790f9b8",
   "metadata": {},
   "source": [
    "### Is our television ad driving more sales?\n"
   ]
  },
  {
   "cell_type": "markdown",
   "id": "a4af27e9",
   "metadata": {},
   "source": [
    "$H_0$: Our television ad is not increasing sales."
   ]
  },
  {
   "cell_type": "markdown",
   "id": "5458370b",
   "metadata": {},
   "source": [
    "$H_a$: Our television ad is increasing sales."
   ]
  },
  {
   "cell_type": "markdown",
   "id": "649c01b3",
   "metadata": {},
   "source": [
    "True Positive: Accepting the null hypothesis when the television ad is not increasing sales."
   ]
  },
  {
   "cell_type": "markdown",
   "id": "77c162c7",
   "metadata": {},
   "source": [
    "True Negative: Rejecting the null hypothesis when the television ad is increasing sales."
   ]
  },
  {
   "cell_type": "markdown",
   "id": "68b914d1",
   "metadata": {},
   "source": [
    "Type 1 Error: Rejecting the null hypothesis when the television ad is not increasing sales."
   ]
  },
  {
   "cell_type": "markdown",
   "id": "09cecf29",
   "metadata": {},
   "source": [
    "Type 2 Error: Accepting the null hypothesis when the television ad is increasing sales."
   ]
  },
  {
   "cell_type": "markdown",
   "id": "d493ffd2",
   "metadata": {},
   "source": [
    "### Ace Realty wants to determine whether the average time it takes to sell homes is different for its two offices. A sample of 40 sales from office #1 revealed a mean of 90 days and a standard deviation of 15 days. A sample of 50 sales from office #2 revealed a mean of 100 days and a standard deviation of 20 days. Use a .05 level of significance."
   ]
  },
  {
   "cell_type": "code",
   "execution_count": 1,
   "id": "f4be1fc3",
   "metadata": {},
   "outputs": [],
   "source": [
    "#We will need to use the stats.ttest_ind() function since we're comparing \n",
    "#the means of two different subgroups of a population.\n",
    "\n",
    "#Check the variance\n",
    "#variance is equal to standard deviation squared\n",
    "office1_var = 15**2\n",
    "office2_var = 20**2"
   ]
  },
  {
   "cell_type": "code",
   "execution_count": 4,
   "id": "4ddb69f7",
   "metadata": {},
   "outputs": [
    {
     "data": {
      "text/plain": [
       "225"
      ]
     },
     "execution_count": 4,
     "metadata": {},
     "output_type": "execute_result"
    }
   ],
   "source": [
    "office1_var"
   ]
  },
  {
   "cell_type": "code",
   "execution_count": 3,
   "id": "e046b768",
   "metadata": {},
   "outputs": [
    {
     "data": {
      "text/plain": [
       "400"
      ]
     },
     "execution_count": 3,
     "metadata": {},
     "output_type": "execute_result"
    }
   ],
   "source": [
    "office2_var"
   ]
  },
  {
   "cell_type": "markdown",
   "id": "3c3ba358",
   "metadata": {},
   "source": [
    "#### Are the requirements met?\n",
    "    1) Both samples are independent of each other\n",
    "    2) Both samples have n > 30, so they are assumed to be normally distributed\n",
    "    3) I would say that the variances are not equal (we can modify the function for this)"
   ]
  },
  {
   "cell_type": "code",
   "execution_count": 67,
   "id": "a5db5438",
   "metadata": {},
   "outputs": [],
   "source": [
    "alpha = 0.05"
   ]
  },
  {
   "cell_type": "markdown",
   "id": "7400cc77",
   "metadata": {},
   "source": [
    "$H_0$: The average time it takes office 1 to sell houses == The average time it takes office 2 to sell houses."
   ]
  },
  {
   "cell_type": "markdown",
   "id": "b9802cf8",
   "metadata": {},
   "source": [
    "$H_a$: The average time it takes office 1 to sell houses != The average time it takes office 2 to sell houses."
   ]
  },
  {
   "cell_type": "code",
   "execution_count": 9,
   "id": "d8efdb1d",
   "metadata": {},
   "outputs": [],
   "source": [
    "import numpy as np\n",
    "import pandas as pd\n",
    "from scipy import stats\n",
    "from math import sqrt"
   ]
  },
  {
   "cell_type": "code",
   "execution_count": 62,
   "id": "7b753084",
   "metadata": {},
   "outputs": [],
   "source": [
    "#Doing this the easy way\n",
    "x1 = stats.norm(90, 15).rvs(40)\n",
    "x2 = stats.norm(100, 20).rvs(50)"
   ]
  },
  {
   "cell_type": "code",
   "execution_count": 63,
   "id": "7a88c126",
   "metadata": {},
   "outputs": [],
   "source": [
    "t, p = stats.ttest_ind(x1, x2, equal_var = False)"
   ]
  },
  {
   "cell_type": "code",
   "execution_count": 64,
   "id": "9f684a99",
   "metadata": {},
   "outputs": [
    {
     "data": {
      "text/plain": [
       "-4.610987158809246"
      ]
     },
     "execution_count": 64,
     "metadata": {},
     "output_type": "execute_result"
    }
   ],
   "source": [
    "t"
   ]
  },
  {
   "cell_type": "code",
   "execution_count": 65,
   "id": "21c6c267",
   "metadata": {},
   "outputs": [
    {
     "data": {
      "text/plain": [
       "1.3597791650919027e-05"
      ]
     },
     "execution_count": 65,
     "metadata": {},
     "output_type": "execute_result"
    }
   ],
   "source": [
    "p"
   ]
  },
  {
   "cell_type": "code",
   "execution_count": 66,
   "id": "b91978f7",
   "metadata": {},
   "outputs": [
    {
     "data": {
      "text/plain": [
       "True"
      ]
     },
     "execution_count": 66,
     "metadata": {},
     "output_type": "execute_result"
    }
   ],
   "source": [
    "p < alpha"
   ]
  },
  {
   "cell_type": "markdown",
   "id": "bcfaf49c",
   "metadata": {},
   "source": [
    "#### Since p is less than 0.05, we reject the null hypothesis"
   ]
  },
  {
   "cell_type": "code",
   "execution_count": 59,
   "id": "69d813b2",
   "metadata": {},
   "outputs": [
    {
     "data": {
      "text/plain": [
       "17.956702977389302"
      ]
     },
     "execution_count": 59,
     "metadata": {},
     "output_type": "execute_result"
    }
   ],
   "source": [
    "#Doing this the long way\n",
    "n1 = 40\n",
    "n2 = 50\n",
    "\n",
    "#s1 and s2 are the standard deviations\n",
    "s1 = 15\n",
    "s2 = 20\n",
    "\n",
    "#degf is degrees of freedom\n",
    "degf = n1 + n2 - 2\n",
    "\n",
    "#s_p is pooled standard deviation\n",
    "s_p = sqrt(((n1 - 1) * s1**2 + (n2 - 1) * s2**2) / (n1 + n2 - 2))\n",
    "s_p\n"
   ]
  },
  {
   "cell_type": "code",
   "execution_count": 71,
   "id": "db4793e8",
   "metadata": {},
   "outputs": [
    {
     "data": {
      "text/plain": [
       "-2.6252287036468456"
      ]
     },
     "execution_count": 71,
     "metadata": {},
     "output_type": "execute_result"
    }
   ],
   "source": [
    "t = (90 - 100) / (s_p * sqrt(1/n1 + 1/n2))\n",
    "t"
   ]
  },
  {
   "cell_type": "code",
   "execution_count": 70,
   "id": "1c0c5a18",
   "metadata": {},
   "outputs": [
    {
     "data": {
      "text/plain": [
       "1.3506018028562515e-05"
      ]
     },
     "execution_count": 70,
     "metadata": {},
     "output_type": "execute_result"
    }
   ],
   "source": [
    "#Since the t value is negative, we will use the cdf method to find the probability\n",
    "#Also, since this is a two-tailed test, we will multiply the result by 2\n",
    "p = stats.t(degf).cdf(t) * 2\n",
    "p"
   ]
  },
  {
   "cell_type": "code",
   "execution_count": 72,
   "id": "529cf840",
   "metadata": {},
   "outputs": [
    {
     "data": {
      "text/plain": [
       "True"
      ]
     },
     "execution_count": 72,
     "metadata": {},
     "output_type": "execute_result"
    }
   ],
   "source": [
    "p < 0.05"
   ]
  },
  {
   "cell_type": "markdown",
   "id": "c68f9e7a",
   "metadata": {},
   "source": [
    "#### Since p is less than 0.05 we reject the null hypothesis"
   ]
  },
  {
   "cell_type": "markdown",
   "id": "0627e2f2",
   "metadata": {},
   "source": [
    "### Load the mpg dataset and use it to answer the following questions:"
   ]
  },
  {
   "cell_type": "code",
   "execution_count": 16,
   "id": "8481513b",
   "metadata": {},
   "outputs": [
    {
     "data": {
      "text/html": [
       "<div>\n",
       "<style scoped>\n",
       "    .dataframe tbody tr th:only-of-type {\n",
       "        vertical-align: middle;\n",
       "    }\n",
       "\n",
       "    .dataframe tbody tr th {\n",
       "        vertical-align: top;\n",
       "    }\n",
       "\n",
       "    .dataframe thead th {\n",
       "        text-align: right;\n",
       "    }\n",
       "</style>\n",
       "<table border=\"1\" class=\"dataframe\">\n",
       "  <thead>\n",
       "    <tr style=\"text-align: right;\">\n",
       "      <th></th>\n",
       "      <th>manufacturer</th>\n",
       "      <th>model</th>\n",
       "      <th>displ</th>\n",
       "      <th>year</th>\n",
       "      <th>cyl</th>\n",
       "      <th>trans</th>\n",
       "      <th>drv</th>\n",
       "      <th>cty</th>\n",
       "      <th>hwy</th>\n",
       "      <th>fl</th>\n",
       "      <th>class</th>\n",
       "    </tr>\n",
       "  </thead>\n",
       "  <tbody>\n",
       "    <tr>\n",
       "      <th>1</th>\n",
       "      <td>audi</td>\n",
       "      <td>a4</td>\n",
       "      <td>1.8</td>\n",
       "      <td>1999</td>\n",
       "      <td>4</td>\n",
       "      <td>auto(l5)</td>\n",
       "      <td>f</td>\n",
       "      <td>18</td>\n",
       "      <td>29</td>\n",
       "      <td>p</td>\n",
       "      <td>compact</td>\n",
       "    </tr>\n",
       "    <tr>\n",
       "      <th>2</th>\n",
       "      <td>audi</td>\n",
       "      <td>a4</td>\n",
       "      <td>1.8</td>\n",
       "      <td>1999</td>\n",
       "      <td>4</td>\n",
       "      <td>manual(m5)</td>\n",
       "      <td>f</td>\n",
       "      <td>21</td>\n",
       "      <td>29</td>\n",
       "      <td>p</td>\n",
       "      <td>compact</td>\n",
       "    </tr>\n",
       "    <tr>\n",
       "      <th>3</th>\n",
       "      <td>audi</td>\n",
       "      <td>a4</td>\n",
       "      <td>2.0</td>\n",
       "      <td>2008</td>\n",
       "      <td>4</td>\n",
       "      <td>manual(m6)</td>\n",
       "      <td>f</td>\n",
       "      <td>20</td>\n",
       "      <td>31</td>\n",
       "      <td>p</td>\n",
       "      <td>compact</td>\n",
       "    </tr>\n",
       "    <tr>\n",
       "      <th>4</th>\n",
       "      <td>audi</td>\n",
       "      <td>a4</td>\n",
       "      <td>2.0</td>\n",
       "      <td>2008</td>\n",
       "      <td>4</td>\n",
       "      <td>auto(av)</td>\n",
       "      <td>f</td>\n",
       "      <td>21</td>\n",
       "      <td>30</td>\n",
       "      <td>p</td>\n",
       "      <td>compact</td>\n",
       "    </tr>\n",
       "    <tr>\n",
       "      <th>5</th>\n",
       "      <td>audi</td>\n",
       "      <td>a4</td>\n",
       "      <td>2.8</td>\n",
       "      <td>1999</td>\n",
       "      <td>6</td>\n",
       "      <td>auto(l5)</td>\n",
       "      <td>f</td>\n",
       "      <td>16</td>\n",
       "      <td>26</td>\n",
       "      <td>p</td>\n",
       "      <td>compact</td>\n",
       "    </tr>\n",
       "    <tr>\n",
       "      <th>...</th>\n",
       "      <td>...</td>\n",
       "      <td>...</td>\n",
       "      <td>...</td>\n",
       "      <td>...</td>\n",
       "      <td>...</td>\n",
       "      <td>...</td>\n",
       "      <td>...</td>\n",
       "      <td>...</td>\n",
       "      <td>...</td>\n",
       "      <td>...</td>\n",
       "      <td>...</td>\n",
       "    </tr>\n",
       "    <tr>\n",
       "      <th>230</th>\n",
       "      <td>volkswagen</td>\n",
       "      <td>passat</td>\n",
       "      <td>2.0</td>\n",
       "      <td>2008</td>\n",
       "      <td>4</td>\n",
       "      <td>auto(s6)</td>\n",
       "      <td>f</td>\n",
       "      <td>19</td>\n",
       "      <td>28</td>\n",
       "      <td>p</td>\n",
       "      <td>midsize</td>\n",
       "    </tr>\n",
       "    <tr>\n",
       "      <th>231</th>\n",
       "      <td>volkswagen</td>\n",
       "      <td>passat</td>\n",
       "      <td>2.0</td>\n",
       "      <td>2008</td>\n",
       "      <td>4</td>\n",
       "      <td>manual(m6)</td>\n",
       "      <td>f</td>\n",
       "      <td>21</td>\n",
       "      <td>29</td>\n",
       "      <td>p</td>\n",
       "      <td>midsize</td>\n",
       "    </tr>\n",
       "    <tr>\n",
       "      <th>232</th>\n",
       "      <td>volkswagen</td>\n",
       "      <td>passat</td>\n",
       "      <td>2.8</td>\n",
       "      <td>1999</td>\n",
       "      <td>6</td>\n",
       "      <td>auto(l5)</td>\n",
       "      <td>f</td>\n",
       "      <td>16</td>\n",
       "      <td>26</td>\n",
       "      <td>p</td>\n",
       "      <td>midsize</td>\n",
       "    </tr>\n",
       "    <tr>\n",
       "      <th>233</th>\n",
       "      <td>volkswagen</td>\n",
       "      <td>passat</td>\n",
       "      <td>2.8</td>\n",
       "      <td>1999</td>\n",
       "      <td>6</td>\n",
       "      <td>manual(m5)</td>\n",
       "      <td>f</td>\n",
       "      <td>18</td>\n",
       "      <td>26</td>\n",
       "      <td>p</td>\n",
       "      <td>midsize</td>\n",
       "    </tr>\n",
       "    <tr>\n",
       "      <th>234</th>\n",
       "      <td>volkswagen</td>\n",
       "      <td>passat</td>\n",
       "      <td>3.6</td>\n",
       "      <td>2008</td>\n",
       "      <td>6</td>\n",
       "      <td>auto(s6)</td>\n",
       "      <td>f</td>\n",
       "      <td>17</td>\n",
       "      <td>26</td>\n",
       "      <td>p</td>\n",
       "      <td>midsize</td>\n",
       "    </tr>\n",
       "  </tbody>\n",
       "</table>\n",
       "<p>234 rows × 11 columns</p>\n",
       "</div>"
      ],
      "text/plain": [
       "    manufacturer   model  displ  year  cyl       trans drv  cty  hwy fl  \\\n",
       "1           audi      a4    1.8  1999    4    auto(l5)   f   18   29  p   \n",
       "2           audi      a4    1.8  1999    4  manual(m5)   f   21   29  p   \n",
       "3           audi      a4    2.0  2008    4  manual(m6)   f   20   31  p   \n",
       "4           audi      a4    2.0  2008    4    auto(av)   f   21   30  p   \n",
       "5           audi      a4    2.8  1999    6    auto(l5)   f   16   26  p   \n",
       "..           ...     ...    ...   ...  ...         ...  ..  ...  ... ..   \n",
       "230   volkswagen  passat    2.0  2008    4    auto(s6)   f   19   28  p   \n",
       "231   volkswagen  passat    2.0  2008    4  manual(m6)   f   21   29  p   \n",
       "232   volkswagen  passat    2.8  1999    6    auto(l5)   f   16   26  p   \n",
       "233   volkswagen  passat    2.8  1999    6  manual(m5)   f   18   26  p   \n",
       "234   volkswagen  passat    3.6  2008    6    auto(s6)   f   17   26  p   \n",
       "\n",
       "       class  \n",
       "1    compact  \n",
       "2    compact  \n",
       "3    compact  \n",
       "4    compact  \n",
       "5    compact  \n",
       "..       ...  \n",
       "230  midsize  \n",
       "231  midsize  \n",
       "232  midsize  \n",
       "233  midsize  \n",
       "234  midsize  \n",
       "\n",
       "[234 rows x 11 columns]"
      ]
     },
     "execution_count": 16,
     "metadata": {},
     "output_type": "execute_result"
    }
   ],
   "source": [
    "from pydataset import data\n",
    "mpg = data('mpg')\n",
    "mpg"
   ]
  },
  {
   "cell_type": "markdown",
   "id": "9b0ba6b0",
   "metadata": {},
   "source": [
    "### Is there a difference in fuel-efficiency in cars from 2008 vs 1999?"
   ]
  },
  {
   "cell_type": "markdown",
   "id": "38b337c2",
   "metadata": {},
   "source": [
    "$H_0$: Fuel-efficiency in cars from 2008 == fuel-efficiency in cars from 1999"
   ]
  },
  {
   "cell_type": "markdown",
   "id": "86326a3f",
   "metadata": {},
   "source": [
    "$H_a$: Fuel-efficiency in cars from 2008 != fuel-efficiency in cars from 1999"
   ]
  },
  {
   "cell_type": "code",
   "execution_count": 17,
   "id": "f5eaa07a",
   "metadata": {},
   "outputs": [],
   "source": [
    "alpha = 0.05"
   ]
  },
  {
   "cell_type": "code",
   "execution_count": 19,
   "id": "227fa7ef",
   "metadata": {},
   "outputs": [],
   "source": [
    "#This will be a two tailed t-test using two samples.\n",
    "#x1 will be the sample of cars from 2008\n",
    "#x2 will be the sample of cars from 1999\n",
    "x1 = mpg[mpg.year == 2008]\n",
    "x2 = mpg[mpg.year == 1999]"
   ]
  },
  {
   "cell_type": "code",
   "execution_count": 24,
   "id": "3b38983e",
   "metadata": {},
   "outputs": [
    {
     "data": {
      "text/plain": [
       "20.076923076923077"
      ]
     },
     "execution_count": 24,
     "metadata": {},
     "output_type": "execute_result"
    }
   ],
   "source": [
    "x1['fuel_efficiency'] = (x1.cty + x1.hwy) / 2\n",
    "x1_mean = x1.fuel_efficiency.mean()\n",
    "x1_mean"
   ]
  },
  {
   "cell_type": "code",
   "execution_count": 23,
   "id": "433fc78b",
   "metadata": {},
   "outputs": [
    {
     "data": {
      "text/plain": [
       "20.22222222222222"
      ]
     },
     "execution_count": 23,
     "metadata": {},
     "output_type": "execute_result"
    }
   ],
   "source": [
    "x2['fuel_efficiency'] = (x2.cty + x2.hwy) / 2\n",
    "x2_mean = x2.fuel_efficiency.mean()\n",
    "x2_mean"
   ]
  },
  {
   "cell_type": "code",
   "execution_count": 25,
   "id": "d83243aa",
   "metadata": {},
   "outputs": [
    {
     "data": {
      "text/plain": [
       "(117, 12)"
      ]
     },
     "execution_count": 25,
     "metadata": {},
     "output_type": "execute_result"
    }
   ],
   "source": [
    "x1.shape"
   ]
  },
  {
   "cell_type": "code",
   "execution_count": 26,
   "id": "7e0dabb0",
   "metadata": {},
   "outputs": [
    {
     "data": {
      "text/plain": [
       "(117, 12)"
      ]
     },
     "execution_count": 26,
     "metadata": {},
     "output_type": "execute_result"
    }
   ],
   "source": [
    "x2.shape"
   ]
  },
  {
   "cell_type": "code",
   "execution_count": 27,
   "id": "5da0ef0b",
   "metadata": {},
   "outputs": [
    {
     "data": {
      "text/plain": [
       "24.097480106100797"
      ]
     },
     "execution_count": 27,
     "metadata": {},
     "output_type": "execute_result"
    }
   ],
   "source": [
    "x1.fuel_efficiency.var()"
   ]
  },
  {
   "cell_type": "code",
   "execution_count": 28,
   "id": "d1a0e746",
   "metadata": {},
   "outputs": [
    {
     "data": {
      "text/plain": [
       "27.122605363984675"
      ]
     },
     "execution_count": 28,
     "metadata": {},
     "output_type": "execute_result"
    }
   ],
   "source": [
    "x2.fuel_efficiency.var()"
   ]
  },
  {
   "cell_type": "markdown",
   "id": "d2fec615",
   "metadata": {},
   "source": [
    "### Do they meet the 3 requirements?\n",
    "    1) Both are independent of each other.\n",
    "    2) Both samples have n > 30, so are assumed to be normally distributed\n",
    "    3) The variances are close enough to be considered equal"
   ]
  },
  {
   "cell_type": "code",
   "execution_count": 29,
   "id": "422d1947",
   "metadata": {},
   "outputs": [],
   "source": [
    "t, p = stats.ttest_ind(x1.fuel_efficiency, x2.fuel_efficiency)"
   ]
  },
  {
   "cell_type": "code",
   "execution_count": 30,
   "id": "36c7b0d2",
   "metadata": {},
   "outputs": [
    {
     "data": {
      "text/plain": [
       "-0.21960177245940962"
      ]
     },
     "execution_count": 30,
     "metadata": {},
     "output_type": "execute_result"
    }
   ],
   "source": [
    "t"
   ]
  },
  {
   "cell_type": "code",
   "execution_count": 31,
   "id": "308e200e",
   "metadata": {},
   "outputs": [
    {
     "data": {
      "text/plain": [
       "0.8263744040323578"
      ]
     },
     "execution_count": 31,
     "metadata": {},
     "output_type": "execute_result"
    }
   ],
   "source": [
    "p"
   ]
  },
  {
   "cell_type": "code",
   "execution_count": 32,
   "id": "05f3c00f",
   "metadata": {},
   "outputs": [
    {
     "data": {
      "text/plain": [
       "False"
      ]
     },
     "execution_count": 32,
     "metadata": {},
     "output_type": "execute_result"
    }
   ],
   "source": [
    "p < alpha"
   ]
  },
  {
   "cell_type": "markdown",
   "id": "2177585c",
   "metadata": {},
   "source": [
    "#### Since p is greater than 0.05, we fail to reject the null hypothesis."
   ]
  },
  {
   "cell_type": "markdown",
   "id": "aa08ce44",
   "metadata": {},
   "source": [
    "### Are compact cars more fuel-efficient than the average car?"
   ]
  },
  {
   "cell_type": "markdown",
   "id": "8e10cdbd",
   "metadata": {},
   "source": [
    "$H_0$: Average compact car fuel-efficiency <= average fuel-efficiency\n",
    "\n",
    "$H_a$: Average compact car fuel-efficiency > average fuel-efficiency"
   ]
  },
  {
   "cell_type": "code",
   "execution_count": 34,
   "id": "e3d2e6bd",
   "metadata": {},
   "outputs": [
    {
     "data": {
      "text/html": [
       "<div>\n",
       "<style scoped>\n",
       "    .dataframe tbody tr th:only-of-type {\n",
       "        vertical-align: middle;\n",
       "    }\n",
       "\n",
       "    .dataframe tbody tr th {\n",
       "        vertical-align: top;\n",
       "    }\n",
       "\n",
       "    .dataframe thead th {\n",
       "        text-align: right;\n",
       "    }\n",
       "</style>\n",
       "<table border=\"1\" class=\"dataframe\">\n",
       "  <thead>\n",
       "    <tr style=\"text-align: right;\">\n",
       "      <th></th>\n",
       "      <th>manufacturer</th>\n",
       "      <th>model</th>\n",
       "      <th>displ</th>\n",
       "      <th>year</th>\n",
       "      <th>cyl</th>\n",
       "      <th>trans</th>\n",
       "      <th>drv</th>\n",
       "      <th>cty</th>\n",
       "      <th>hwy</th>\n",
       "      <th>fl</th>\n",
       "      <th>class</th>\n",
       "      <th>fuel_efficiency</th>\n",
       "    </tr>\n",
       "  </thead>\n",
       "  <tbody>\n",
       "    <tr>\n",
       "      <th>1</th>\n",
       "      <td>audi</td>\n",
       "      <td>a4</td>\n",
       "      <td>1.8</td>\n",
       "      <td>1999</td>\n",
       "      <td>4</td>\n",
       "      <td>auto(l5)</td>\n",
       "      <td>f</td>\n",
       "      <td>18</td>\n",
       "      <td>29</td>\n",
       "      <td>p</td>\n",
       "      <td>compact</td>\n",
       "      <td>23.5</td>\n",
       "    </tr>\n",
       "    <tr>\n",
       "      <th>2</th>\n",
       "      <td>audi</td>\n",
       "      <td>a4</td>\n",
       "      <td>1.8</td>\n",
       "      <td>1999</td>\n",
       "      <td>4</td>\n",
       "      <td>manual(m5)</td>\n",
       "      <td>f</td>\n",
       "      <td>21</td>\n",
       "      <td>29</td>\n",
       "      <td>p</td>\n",
       "      <td>compact</td>\n",
       "      <td>25.0</td>\n",
       "    </tr>\n",
       "    <tr>\n",
       "      <th>3</th>\n",
       "      <td>audi</td>\n",
       "      <td>a4</td>\n",
       "      <td>2.0</td>\n",
       "      <td>2008</td>\n",
       "      <td>4</td>\n",
       "      <td>manual(m6)</td>\n",
       "      <td>f</td>\n",
       "      <td>20</td>\n",
       "      <td>31</td>\n",
       "      <td>p</td>\n",
       "      <td>compact</td>\n",
       "      <td>25.5</td>\n",
       "    </tr>\n",
       "    <tr>\n",
       "      <th>4</th>\n",
       "      <td>audi</td>\n",
       "      <td>a4</td>\n",
       "      <td>2.0</td>\n",
       "      <td>2008</td>\n",
       "      <td>4</td>\n",
       "      <td>auto(av)</td>\n",
       "      <td>f</td>\n",
       "      <td>21</td>\n",
       "      <td>30</td>\n",
       "      <td>p</td>\n",
       "      <td>compact</td>\n",
       "      <td>25.5</td>\n",
       "    </tr>\n",
       "    <tr>\n",
       "      <th>5</th>\n",
       "      <td>audi</td>\n",
       "      <td>a4</td>\n",
       "      <td>2.8</td>\n",
       "      <td>1999</td>\n",
       "      <td>6</td>\n",
       "      <td>auto(l5)</td>\n",
       "      <td>f</td>\n",
       "      <td>16</td>\n",
       "      <td>26</td>\n",
       "      <td>p</td>\n",
       "      <td>compact</td>\n",
       "      <td>21.0</td>\n",
       "    </tr>\n",
       "    <tr>\n",
       "      <th>...</th>\n",
       "      <td>...</td>\n",
       "      <td>...</td>\n",
       "      <td>...</td>\n",
       "      <td>...</td>\n",
       "      <td>...</td>\n",
       "      <td>...</td>\n",
       "      <td>...</td>\n",
       "      <td>...</td>\n",
       "      <td>...</td>\n",
       "      <td>...</td>\n",
       "      <td>...</td>\n",
       "      <td>...</td>\n",
       "    </tr>\n",
       "    <tr>\n",
       "      <th>230</th>\n",
       "      <td>volkswagen</td>\n",
       "      <td>passat</td>\n",
       "      <td>2.0</td>\n",
       "      <td>2008</td>\n",
       "      <td>4</td>\n",
       "      <td>auto(s6)</td>\n",
       "      <td>f</td>\n",
       "      <td>19</td>\n",
       "      <td>28</td>\n",
       "      <td>p</td>\n",
       "      <td>midsize</td>\n",
       "      <td>23.5</td>\n",
       "    </tr>\n",
       "    <tr>\n",
       "      <th>231</th>\n",
       "      <td>volkswagen</td>\n",
       "      <td>passat</td>\n",
       "      <td>2.0</td>\n",
       "      <td>2008</td>\n",
       "      <td>4</td>\n",
       "      <td>manual(m6)</td>\n",
       "      <td>f</td>\n",
       "      <td>21</td>\n",
       "      <td>29</td>\n",
       "      <td>p</td>\n",
       "      <td>midsize</td>\n",
       "      <td>25.0</td>\n",
       "    </tr>\n",
       "    <tr>\n",
       "      <th>232</th>\n",
       "      <td>volkswagen</td>\n",
       "      <td>passat</td>\n",
       "      <td>2.8</td>\n",
       "      <td>1999</td>\n",
       "      <td>6</td>\n",
       "      <td>auto(l5)</td>\n",
       "      <td>f</td>\n",
       "      <td>16</td>\n",
       "      <td>26</td>\n",
       "      <td>p</td>\n",
       "      <td>midsize</td>\n",
       "      <td>21.0</td>\n",
       "    </tr>\n",
       "    <tr>\n",
       "      <th>233</th>\n",
       "      <td>volkswagen</td>\n",
       "      <td>passat</td>\n",
       "      <td>2.8</td>\n",
       "      <td>1999</td>\n",
       "      <td>6</td>\n",
       "      <td>manual(m5)</td>\n",
       "      <td>f</td>\n",
       "      <td>18</td>\n",
       "      <td>26</td>\n",
       "      <td>p</td>\n",
       "      <td>midsize</td>\n",
       "      <td>22.0</td>\n",
       "    </tr>\n",
       "    <tr>\n",
       "      <th>234</th>\n",
       "      <td>volkswagen</td>\n",
       "      <td>passat</td>\n",
       "      <td>3.6</td>\n",
       "      <td>2008</td>\n",
       "      <td>6</td>\n",
       "      <td>auto(s6)</td>\n",
       "      <td>f</td>\n",
       "      <td>17</td>\n",
       "      <td>26</td>\n",
       "      <td>p</td>\n",
       "      <td>midsize</td>\n",
       "      <td>21.5</td>\n",
       "    </tr>\n",
       "  </tbody>\n",
       "</table>\n",
       "<p>234 rows × 12 columns</p>\n",
       "</div>"
      ],
      "text/plain": [
       "    manufacturer   model  displ  year  cyl       trans drv  cty  hwy fl  \\\n",
       "1           audi      a4    1.8  1999    4    auto(l5)   f   18   29  p   \n",
       "2           audi      a4    1.8  1999    4  manual(m5)   f   21   29  p   \n",
       "3           audi      a4    2.0  2008    4  manual(m6)   f   20   31  p   \n",
       "4           audi      a4    2.0  2008    4    auto(av)   f   21   30  p   \n",
       "5           audi      a4    2.8  1999    6    auto(l5)   f   16   26  p   \n",
       "..           ...     ...    ...   ...  ...         ...  ..  ...  ... ..   \n",
       "230   volkswagen  passat    2.0  2008    4    auto(s6)   f   19   28  p   \n",
       "231   volkswagen  passat    2.0  2008    4  manual(m6)   f   21   29  p   \n",
       "232   volkswagen  passat    2.8  1999    6    auto(l5)   f   16   26  p   \n",
       "233   volkswagen  passat    2.8  1999    6  manual(m5)   f   18   26  p   \n",
       "234   volkswagen  passat    3.6  2008    6    auto(s6)   f   17   26  p   \n",
       "\n",
       "       class  fuel_efficiency  \n",
       "1    compact             23.5  \n",
       "2    compact             25.0  \n",
       "3    compact             25.5  \n",
       "4    compact             25.5  \n",
       "5    compact             21.0  \n",
       "..       ...              ...  \n",
       "230  midsize             23.5  \n",
       "231  midsize             25.0  \n",
       "232  midsize             21.0  \n",
       "233  midsize             22.0  \n",
       "234  midsize             21.5  \n",
       "\n",
       "[234 rows x 12 columns]"
      ]
     },
     "execution_count": 34,
     "metadata": {},
     "output_type": "execute_result"
    }
   ],
   "source": [
    "mpg['fuel_efficiency'] = (mpg.cty + mpg.hwy) / 2\n",
    "mpg"
   ]
  },
  {
   "cell_type": "code",
   "execution_count": 39,
   "id": "7e8ef00f",
   "metadata": {},
   "outputs": [],
   "source": [
    "#x1 will be compact cars\n",
    "#x2 will be all cars\n",
    "x1 = mpg[mpg['class'] == 'compact'].fuel_efficiency"
   ]
  },
  {
   "cell_type": "code",
   "execution_count": 38,
   "id": "49602484",
   "metadata": {},
   "outputs": [],
   "source": [
    "x2 = mpg.fuel_efficiency"
   ]
  },
  {
   "cell_type": "code",
   "execution_count": 41,
   "id": "1f78d689",
   "metadata": {},
   "outputs": [
    {
     "data": {
      "text/plain": [
       "(47,)"
      ]
     },
     "execution_count": 41,
     "metadata": {},
     "output_type": "execute_result"
    }
   ],
   "source": [
    "x1.shape"
   ]
  },
  {
   "cell_type": "code",
   "execution_count": 42,
   "id": "27acd072",
   "metadata": {},
   "outputs": [
    {
     "data": {
      "text/plain": [
       "(234,)"
      ]
     },
     "execution_count": 42,
     "metadata": {},
     "output_type": "execute_result"
    }
   ],
   "source": [
    "x2.shape"
   ]
  },
  {
   "cell_type": "markdown",
   "id": "a8ba5a42",
   "metadata": {},
   "source": [
    "Both have n > 30 so are assumed to be normally distributed"
   ]
  },
  {
   "cell_type": "code",
   "execution_count": 43,
   "id": "c55b8a18",
   "metadata": {},
   "outputs": [],
   "source": [
    "overall_mean = x2.mean()"
   ]
  },
  {
   "cell_type": "code",
   "execution_count": 44,
   "id": "f5f79ea6",
   "metadata": {},
   "outputs": [],
   "source": [
    "t, p = stats.ttest_1samp(x1, overall_mean)"
   ]
  },
  {
   "cell_type": "code",
   "execution_count": 45,
   "id": "ff8e3d92",
   "metadata": {},
   "outputs": [
    {
     "data": {
      "text/plain": [
       "7.896888573132535"
      ]
     },
     "execution_count": 45,
     "metadata": {},
     "output_type": "execute_result"
    }
   ],
   "source": [
    "t"
   ]
  },
  {
   "cell_type": "code",
   "execution_count": 46,
   "id": "435d28ce",
   "metadata": {},
   "outputs": [
    {
     "data": {
      "text/plain": [
       "4.1985637943171336e-10"
      ]
     },
     "execution_count": 46,
     "metadata": {},
     "output_type": "execute_result"
    }
   ],
   "source": [
    "p"
   ]
  },
  {
   "cell_type": "code",
   "execution_count": 47,
   "id": "76d37ea7",
   "metadata": {},
   "outputs": [
    {
     "data": {
      "text/plain": [
       "True"
      ]
     },
     "execution_count": 47,
     "metadata": {},
     "output_type": "execute_result"
    }
   ],
   "source": [
    "p < alpha"
   ]
  },
  {
   "cell_type": "markdown",
   "id": "0d3a2491",
   "metadata": {},
   "source": [
    "#### Since p is less than 0.05 and t is positive, we reject the null hypothesis."
   ]
  },
  {
   "cell_type": "markdown",
   "id": "37d57730",
   "metadata": {},
   "source": [
    "### Do manual cars get better gas mileage than automatic cars?"
   ]
  },
  {
   "cell_type": "markdown",
   "id": "ecbc6bc1",
   "metadata": {},
   "source": [
    "$H_0$: Average manual car fuel-efficiency <= Average automatic car fuel-efficiency\n",
    "\n",
    "$H_a$: Average manual car fuel-efficiency > Average automatic car fuel-efficinecy"
   ]
  },
  {
   "cell_type": "code",
   "execution_count": 50,
   "id": "09eca75d",
   "metadata": {},
   "outputs": [],
   "source": [
    "#This test will be a single tailed, two sample t-test\n",
    "#x1 will be manual car fuel efficiency\n",
    "#x2 will be automatic car fuel efficiency\n",
    "x1 = mpg[mpg.trans.str.startswith('manual')].fuel_efficiency\n",
    "x2 = mpg[mpg.trans.str.startswith('auto')].fuel_efficiency"
   ]
  },
  {
   "cell_type": "code",
   "execution_count": 51,
   "id": "5b58301d",
   "metadata": {},
   "outputs": [
    {
     "data": {
      "text/plain": [
       "(77,)"
      ]
     },
     "execution_count": 51,
     "metadata": {},
     "output_type": "execute_result"
    }
   ],
   "source": [
    "x1.shape"
   ]
  },
  {
   "cell_type": "code",
   "execution_count": 52,
   "id": "e784568a",
   "metadata": {},
   "outputs": [
    {
     "data": {
      "text/plain": [
       "(157,)"
      ]
     },
     "execution_count": 52,
     "metadata": {},
     "output_type": "execute_result"
    }
   ],
   "source": [
    "x2.shape"
   ]
  },
  {
   "cell_type": "code",
   "execution_count": 53,
   "id": "1f4cee96",
   "metadata": {},
   "outputs": [
    {
     "data": {
      "text/plain": [
       "26.635167464114833"
      ]
     },
     "execution_count": 53,
     "metadata": {},
     "output_type": "execute_result"
    }
   ],
   "source": [
    "x1.var()"
   ]
  },
  {
   "cell_type": "code",
   "execution_count": 54,
   "id": "74581c92",
   "metadata": {},
   "outputs": [
    {
     "data": {
      "text/plain": [
       "21.942777233382323"
      ]
     },
     "execution_count": 54,
     "metadata": {},
     "output_type": "execute_result"
    }
   ],
   "source": [
    "x2.var()"
   ]
  },
  {
   "cell_type": "markdown",
   "id": "dffd7c11",
   "metadata": {},
   "source": [
    "### Are the requirements met?\n",
    "    1) Both are considered independent of each other\n",
    "    2) Both have n > 30 so are assumed to be normally distributed\n",
    "    3) Variances are not close enough for me to say they are equal, \n",
    "        but this can be accounted for in the function"
   ]
  },
  {
   "cell_type": "code",
   "execution_count": 55,
   "id": "9bf706d4",
   "metadata": {},
   "outputs": [],
   "source": [
    "t, p = stats.ttest_ind(x1, x2, equal_var = False)"
   ]
  },
  {
   "cell_type": "code",
   "execution_count": 56,
   "id": "891ee62e",
   "metadata": {},
   "outputs": [
    {
     "data": {
      "text/plain": [
       "4.443514012903071"
      ]
     },
     "execution_count": 56,
     "metadata": {},
     "output_type": "execute_result"
    }
   ],
   "source": [
    "t"
   ]
  },
  {
   "cell_type": "code",
   "execution_count": 57,
   "id": "903bd6b6",
   "metadata": {},
   "outputs": [
    {
     "data": {
      "text/plain": [
       "1.795224899991793e-05"
      ]
     },
     "execution_count": 57,
     "metadata": {},
     "output_type": "execute_result"
    }
   ],
   "source": [
    "p"
   ]
  },
  {
   "cell_type": "code",
   "execution_count": 58,
   "id": "4cc34e8b",
   "metadata": {},
   "outputs": [
    {
     "data": {
      "text/plain": [
       "True"
      ]
     },
     "execution_count": 58,
     "metadata": {},
     "output_type": "execute_result"
    }
   ],
   "source": [
    "p < alpha"
   ]
  },
  {
   "cell_type": "markdown",
   "id": "110934c3",
   "metadata": {},
   "source": [
    "#### Since p is less than 0.05 and t is positive, we reject the null hypothesis"
   ]
  },
  {
   "cell_type": "code",
   "execution_count": null,
   "id": "18254a78",
   "metadata": {},
   "outputs": [],
   "source": []
  }
 ],
 "metadata": {
  "kernelspec": {
   "display_name": "Python 3",
   "language": "python",
   "name": "python3"
  },
  "language_info": {
   "codemirror_mode": {
    "name": "ipython",
    "version": 3
   },
   "file_extension": ".py",
   "mimetype": "text/x-python",
   "name": "python",
   "nbconvert_exporter": "python",
   "pygments_lexer": "ipython3",
   "version": "3.9.1"
  }
 },
 "nbformat": 4,
 "nbformat_minor": 5
}
