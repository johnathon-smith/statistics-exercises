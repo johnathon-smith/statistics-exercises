{
 "cells": [
  {
   "cell_type": "markdown",
   "id": "6d344d05",
   "metadata": {},
   "source": [
    "### For each of the following questions, formulate a null and alternative hypothesis (be as specific as you can be), then give an example of what a true positive, true negative, type I and type II errors would look like. Note that some of the questions are intentionally phrased in a vague way. It is your job to reword these as more precise questions that could be tested."
   ]
  },
  {
   "cell_type": "markdown",
   "id": "d1a14247",
   "metadata": {},
   "source": [
    "### Has the network latency gone up since we switched internet service providers?"
   ]
  },
  {
   "cell_type": "markdown",
   "id": "3c1eac2c",
   "metadata": {},
   "source": [
    "$H_0$: Network latency has stayed the same or decreased since we switched internet service providers"
   ]
  },
  {
   "cell_type": "markdown",
   "id": "12e1d7e6",
   "metadata": {},
   "source": [
    "$H_a$: Network latency has increased since we switched internet service providers."
   ]
  },
  {
   "cell_type": "markdown",
   "id": "e84c7a75",
   "metadata": {},
   "source": [
    "True Positive: Rejecting the null hypothesis when the network latency did actually increase."
   ]
  },
  {
   "cell_type": "markdown",
   "id": "2703c460",
   "metadata": {},
   "source": [
    "True Negative: Accepting the null hypothesis when the network latency actually stayed the same or decreased."
   ]
  },
  {
   "cell_type": "markdown",
   "id": "de0ec77a",
   "metadata": {},
   "source": [
    "Type 1 Error: Rejecting the null hypothesis when the network latency actually stayed the same or decreased."
   ]
  },
  {
   "cell_type": "markdown",
   "id": "aa46d143",
   "metadata": {},
   "source": [
    "Type 2 Error: Accepting the null hypothesis when the network latency actually increased."
   ]
  },
  {
   "cell_type": "markdown",
   "id": "e6bf23f8",
   "metadata": {},
   "source": [
    "### Is the website redesign any good?"
   ]
  },
  {
   "cell_type": "markdown",
   "id": "0dfb95d3",
   "metadata": {},
   "source": [
    "$H_0$: Website performance is the same after the redesign."
   ]
  },
  {
   "cell_type": "markdown",
   "id": "bae4b9d2",
   "metadata": {},
   "source": [
    "$H_a$: Website performance is not the same after the redesign."
   ]
  },
  {
   "cell_type": "markdown",
   "id": "1c7042a0",
   "metadata": {},
   "source": [
    "True Positive: Accepting the null hypothesis when website performance actually is the same after the redesign."
   ]
  },
  {
   "cell_type": "markdown",
   "id": "a32498ce",
   "metadata": {},
   "source": [
    "True Negative: Rejecting the null hypothesis when the website performance actually is different after the redesign."
   ]
  },
  {
   "cell_type": "markdown",
   "id": "36ee211b",
   "metadata": {},
   "source": [
    "Type 1 Error: Rejecting the null hypothesis when website performance did not actually change after the redesign."
   ]
  },
  {
   "cell_type": "markdown",
   "id": "5c13d804",
   "metadata": {},
   "source": [
    "Type 2 Error: Accepting the null hypothesis when the website performance really did change after the redesign."
   ]
  },
  {
   "cell_type": "markdown",
   "id": "b790f9b8",
   "metadata": {},
   "source": [
    "### Is our television ad driving more sales?\n"
   ]
  },
  {
   "cell_type": "markdown",
   "id": "a4af27e9",
   "metadata": {},
   "source": [
    "$H_0$: Our television ad is not increasing sales."
   ]
  },
  {
   "cell_type": "markdown",
   "id": "5458370b",
   "metadata": {},
   "source": [
    "$H_a$: Our television ad is increasing sales."
   ]
  },
  {
   "cell_type": "markdown",
   "id": "649c01b3",
   "metadata": {},
   "source": [
    "True Positive: Accepting the null hypothesis when the television ad is not increasing sales."
   ]
  },
  {
   "cell_type": "markdown",
   "id": "77c162c7",
   "metadata": {},
   "source": [
    "True Negative: Rejecting the null hypothesis when the television ad is increasing sales."
   ]
  },
  {
   "cell_type": "markdown",
   "id": "68b914d1",
   "metadata": {},
   "source": [
    "Type 1 Error: Rejecting the null hypothesis when the television ad is not increasing sales."
   ]
  },
  {
   "cell_type": "markdown",
   "id": "09cecf29",
   "metadata": {},
   "source": [
    "Type 2 Error: Accepting the null hypothesis when the television ad is increasing sales."
   ]
  },
  {
   "cell_type": "markdown",
   "id": "d493ffd2",
   "metadata": {},
   "source": [
    "### Ace Realty wants to determine whether the average time it takes to sell homes is different for its two offices. A sample of 40 sales from office #1 revealed a mean of 90 days and a standard deviation of 15 days. A sample of 50 sales from office #2 revealed a mean of 100 days and a standard deviation of 20 days. Use a .05 level of significance."
   ]
  },
  {
   "cell_type": "code",
   "execution_count": 1,
   "id": "f4be1fc3",
   "metadata": {},
   "outputs": [],
   "source": [
    "#We will need to use the stats.ttest_ind() function since we're comparing \n",
    "#the means of two different subgroups of a population.\n",
    "\n",
    "#Check the variance\n",
    "#variance is equal to standard deviation squared\n",
    "office1_var = 15**2\n",
    "office2_var = 20**2"
   ]
  },
  {
   "cell_type": "code",
   "execution_count": 2,
   "id": "4ddb69f7",
   "metadata": {},
   "outputs": [
    {
     "data": {
      "text/plain": [
       "225"
      ]
     },
     "execution_count": 2,
     "metadata": {},
     "output_type": "execute_result"
    }
   ],
   "source": [
    "office1_var"
   ]
  },
  {
   "cell_type": "code",
   "execution_count": 3,
   "id": "e046b768",
   "metadata": {},
   "outputs": [
    {
     "data": {
      "text/plain": [
       "400"
      ]
     },
     "execution_count": 3,
     "metadata": {},
     "output_type": "execute_result"
    }
   ],
   "source": [
    "office2_var"
   ]
  },
  {
   "cell_type": "markdown",
   "id": "3c3ba358",
   "metadata": {},
   "source": [
    "#### Are the requirements met?\n",
    "    1) Both samples are independent of each other\n",
    "    2) Both samples have n > 30, so they are assumed to be normally distributed\n",
    "    3) I would say that the variances are not equal (we can modify the function for this)"
   ]
  },
  {
   "cell_type": "code",
   "execution_count": 4,
   "id": "a5db5438",
   "metadata": {},
   "outputs": [],
   "source": [
    "alpha = 0.05"
   ]
  },
  {
   "cell_type": "markdown",
   "id": "7400cc77",
   "metadata": {},
   "source": [
    "$H_0$: The average time it takes office 1 to sell houses == The average time it takes office 2 to sell houses."
   ]
  },
  {
   "cell_type": "markdown",
   "id": "b9802cf8",
   "metadata": {},
   "source": [
    "$H_a$: The average time it takes office 1 to sell houses != The average time it takes office 2 to sell houses."
   ]
  },
  {
   "cell_type": "code",
   "execution_count": 62,
   "id": "d8efdb1d",
   "metadata": {},
   "outputs": [],
   "source": [
    "import numpy as np\n",
    "import pandas as pd\n",
    "from scipy import stats\n",
    "from math import sqrt"
   ]
  },
  {
   "cell_type": "code",
   "execution_count": 6,
   "id": "7b753084",
   "metadata": {},
   "outputs": [],
   "source": [
    "#Doing this the easy way\n",
    "x1 = stats.norm(90, 15).rvs(40)\n",
    "x2 = stats.norm(100, 20).rvs(50)"
   ]
  },
  {
   "cell_type": "code",
   "execution_count": 7,
   "id": "7a88c126",
   "metadata": {},
   "outputs": [],
   "source": [
    "t, p = stats.ttest_ind(x1, x2, equal_var = False)"
   ]
  },
  {
   "cell_type": "code",
   "execution_count": 8,
   "id": "9f684a99",
   "metadata": {},
   "outputs": [
    {
     "data": {
      "text/plain": [
       "-2.5186754928527946"
      ]
     },
     "execution_count": 8,
     "metadata": {},
     "output_type": "execute_result"
    }
   ],
   "source": [
    "t"
   ]
  },
  {
   "cell_type": "code",
   "execution_count": 9,
   "id": "21c6c267",
   "metadata": {},
   "outputs": [
    {
     "data": {
      "text/plain": [
       "0.013671660823837788"
      ]
     },
     "execution_count": 9,
     "metadata": {},
     "output_type": "execute_result"
    }
   ],
   "source": [
    "p"
   ]
  },
  {
   "cell_type": "code",
   "execution_count": 10,
   "id": "b91978f7",
   "metadata": {},
   "outputs": [
    {
     "data": {
      "text/plain": [
       "True"
      ]
     },
     "execution_count": 10,
     "metadata": {},
     "output_type": "execute_result"
    }
   ],
   "source": [
    "p < alpha"
   ]
  },
  {
   "cell_type": "markdown",
   "id": "bcfaf49c",
   "metadata": {},
   "source": [
    "#### Since p is less than 0.05, we reject the null hypothesis"
   ]
  },
  {
   "cell_type": "code",
   "execution_count": 11,
   "id": "69d813b2",
   "metadata": {},
   "outputs": [
    {
     "data": {
      "text/plain": [
       "17.956702977389302"
      ]
     },
     "execution_count": 11,
     "metadata": {},
     "output_type": "execute_result"
    }
   ],
   "source": [
    "#Doing this the long way\n",
    "n1 = 40\n",
    "n2 = 50\n",
    "\n",
    "#s1 and s2 are the standard deviations\n",
    "s1 = 15\n",
    "s2 = 20\n",
    "\n",
    "#degf is degrees of freedom\n",
    "degf = n1 + n2 - 2\n",
    "\n",
    "#s_p is pooled standard deviation\n",
    "s_p = sqrt(((n1 - 1) * s1**2 + (n2 - 1) * s2**2) / (n1 + n2 - 2))\n",
    "s_p\n"
   ]
  },
  {
   "cell_type": "code",
   "execution_count": 12,
   "id": "db4793e8",
   "metadata": {},
   "outputs": [
    {
     "data": {
      "text/plain": [
       "-2.6252287036468456"
      ]
     },
     "execution_count": 12,
     "metadata": {},
     "output_type": "execute_result"
    }
   ],
   "source": [
    "t = (90 - 100) / (s_p * sqrt(1/n1 + 1/n2))\n",
    "t"
   ]
  },
  {
   "cell_type": "code",
   "execution_count": 13,
   "id": "1c0c5a18",
   "metadata": {},
   "outputs": [
    {
     "data": {
      "text/plain": [
       "0.01020985244923939"
      ]
     },
     "execution_count": 13,
     "metadata": {},
     "output_type": "execute_result"
    }
   ],
   "source": [
    "#Since the t value is negative, we will use the cdf method to find the probability\n",
    "#Also, since this is a two-tailed test, we will multiply the result by 2\n",
    "p = stats.t(degf).cdf(t) * 2\n",
    "p"
   ]
  },
  {
   "cell_type": "code",
   "execution_count": 14,
   "id": "529cf840",
   "metadata": {},
   "outputs": [
    {
     "data": {
      "text/plain": [
       "True"
      ]
     },
     "execution_count": 14,
     "metadata": {},
     "output_type": "execute_result"
    }
   ],
   "source": [
    "p < 0.05"
   ]
  },
  {
   "cell_type": "markdown",
   "id": "c68f9e7a",
   "metadata": {},
   "source": [
    "#### Since p is less than 0.05 we reject the null hypothesis"
   ]
  },
  {
   "cell_type": "markdown",
   "id": "0627e2f2",
   "metadata": {},
   "source": [
    "### Load the mpg dataset and use it to answer the following questions:"
   ]
  },
  {
   "cell_type": "code",
   "execution_count": 15,
   "id": "8481513b",
   "metadata": {},
   "outputs": [
    {
     "data": {
      "text/html": [
       "<div>\n",
       "<style scoped>\n",
       "    .dataframe tbody tr th:only-of-type {\n",
       "        vertical-align: middle;\n",
       "    }\n",
       "\n",
       "    .dataframe tbody tr th {\n",
       "        vertical-align: top;\n",
       "    }\n",
       "\n",
       "    .dataframe thead th {\n",
       "        text-align: right;\n",
       "    }\n",
       "</style>\n",
       "<table border=\"1\" class=\"dataframe\">\n",
       "  <thead>\n",
       "    <tr style=\"text-align: right;\">\n",
       "      <th></th>\n",
       "      <th>manufacturer</th>\n",
       "      <th>model</th>\n",
       "      <th>displ</th>\n",
       "      <th>year</th>\n",
       "      <th>cyl</th>\n",
       "      <th>trans</th>\n",
       "      <th>drv</th>\n",
       "      <th>cty</th>\n",
       "      <th>hwy</th>\n",
       "      <th>fl</th>\n",
       "      <th>class</th>\n",
       "    </tr>\n",
       "  </thead>\n",
       "  <tbody>\n",
       "    <tr>\n",
       "      <th>1</th>\n",
       "      <td>audi</td>\n",
       "      <td>a4</td>\n",
       "      <td>1.8</td>\n",
       "      <td>1999</td>\n",
       "      <td>4</td>\n",
       "      <td>auto(l5)</td>\n",
       "      <td>f</td>\n",
       "      <td>18</td>\n",
       "      <td>29</td>\n",
       "      <td>p</td>\n",
       "      <td>compact</td>\n",
       "    </tr>\n",
       "    <tr>\n",
       "      <th>2</th>\n",
       "      <td>audi</td>\n",
       "      <td>a4</td>\n",
       "      <td>1.8</td>\n",
       "      <td>1999</td>\n",
       "      <td>4</td>\n",
       "      <td>manual(m5)</td>\n",
       "      <td>f</td>\n",
       "      <td>21</td>\n",
       "      <td>29</td>\n",
       "      <td>p</td>\n",
       "      <td>compact</td>\n",
       "    </tr>\n",
       "    <tr>\n",
       "      <th>3</th>\n",
       "      <td>audi</td>\n",
       "      <td>a4</td>\n",
       "      <td>2.0</td>\n",
       "      <td>2008</td>\n",
       "      <td>4</td>\n",
       "      <td>manual(m6)</td>\n",
       "      <td>f</td>\n",
       "      <td>20</td>\n",
       "      <td>31</td>\n",
       "      <td>p</td>\n",
       "      <td>compact</td>\n",
       "    </tr>\n",
       "    <tr>\n",
       "      <th>4</th>\n",
       "      <td>audi</td>\n",
       "      <td>a4</td>\n",
       "      <td>2.0</td>\n",
       "      <td>2008</td>\n",
       "      <td>4</td>\n",
       "      <td>auto(av)</td>\n",
       "      <td>f</td>\n",
       "      <td>21</td>\n",
       "      <td>30</td>\n",
       "      <td>p</td>\n",
       "      <td>compact</td>\n",
       "    </tr>\n",
       "    <tr>\n",
       "      <th>5</th>\n",
       "      <td>audi</td>\n",
       "      <td>a4</td>\n",
       "      <td>2.8</td>\n",
       "      <td>1999</td>\n",
       "      <td>6</td>\n",
       "      <td>auto(l5)</td>\n",
       "      <td>f</td>\n",
       "      <td>16</td>\n",
       "      <td>26</td>\n",
       "      <td>p</td>\n",
       "      <td>compact</td>\n",
       "    </tr>\n",
       "    <tr>\n",
       "      <th>...</th>\n",
       "      <td>...</td>\n",
       "      <td>...</td>\n",
       "      <td>...</td>\n",
       "      <td>...</td>\n",
       "      <td>...</td>\n",
       "      <td>...</td>\n",
       "      <td>...</td>\n",
       "      <td>...</td>\n",
       "      <td>...</td>\n",
       "      <td>...</td>\n",
       "      <td>...</td>\n",
       "    </tr>\n",
       "    <tr>\n",
       "      <th>230</th>\n",
       "      <td>volkswagen</td>\n",
       "      <td>passat</td>\n",
       "      <td>2.0</td>\n",
       "      <td>2008</td>\n",
       "      <td>4</td>\n",
       "      <td>auto(s6)</td>\n",
       "      <td>f</td>\n",
       "      <td>19</td>\n",
       "      <td>28</td>\n",
       "      <td>p</td>\n",
       "      <td>midsize</td>\n",
       "    </tr>\n",
       "    <tr>\n",
       "      <th>231</th>\n",
       "      <td>volkswagen</td>\n",
       "      <td>passat</td>\n",
       "      <td>2.0</td>\n",
       "      <td>2008</td>\n",
       "      <td>4</td>\n",
       "      <td>manual(m6)</td>\n",
       "      <td>f</td>\n",
       "      <td>21</td>\n",
       "      <td>29</td>\n",
       "      <td>p</td>\n",
       "      <td>midsize</td>\n",
       "    </tr>\n",
       "    <tr>\n",
       "      <th>232</th>\n",
       "      <td>volkswagen</td>\n",
       "      <td>passat</td>\n",
       "      <td>2.8</td>\n",
       "      <td>1999</td>\n",
       "      <td>6</td>\n",
       "      <td>auto(l5)</td>\n",
       "      <td>f</td>\n",
       "      <td>16</td>\n",
       "      <td>26</td>\n",
       "      <td>p</td>\n",
       "      <td>midsize</td>\n",
       "    </tr>\n",
       "    <tr>\n",
       "      <th>233</th>\n",
       "      <td>volkswagen</td>\n",
       "      <td>passat</td>\n",
       "      <td>2.8</td>\n",
       "      <td>1999</td>\n",
       "      <td>6</td>\n",
       "      <td>manual(m5)</td>\n",
       "      <td>f</td>\n",
       "      <td>18</td>\n",
       "      <td>26</td>\n",
       "      <td>p</td>\n",
       "      <td>midsize</td>\n",
       "    </tr>\n",
       "    <tr>\n",
       "      <th>234</th>\n",
       "      <td>volkswagen</td>\n",
       "      <td>passat</td>\n",
       "      <td>3.6</td>\n",
       "      <td>2008</td>\n",
       "      <td>6</td>\n",
       "      <td>auto(s6)</td>\n",
       "      <td>f</td>\n",
       "      <td>17</td>\n",
       "      <td>26</td>\n",
       "      <td>p</td>\n",
       "      <td>midsize</td>\n",
       "    </tr>\n",
       "  </tbody>\n",
       "</table>\n",
       "<p>234 rows × 11 columns</p>\n",
       "</div>"
      ],
      "text/plain": [
       "    manufacturer   model  displ  year  cyl       trans drv  cty  hwy fl  \\\n",
       "1           audi      a4    1.8  1999    4    auto(l5)   f   18   29  p   \n",
       "2           audi      a4    1.8  1999    4  manual(m5)   f   21   29  p   \n",
       "3           audi      a4    2.0  2008    4  manual(m6)   f   20   31  p   \n",
       "4           audi      a4    2.0  2008    4    auto(av)   f   21   30  p   \n",
       "5           audi      a4    2.8  1999    6    auto(l5)   f   16   26  p   \n",
       "..           ...     ...    ...   ...  ...         ...  ..  ...  ... ..   \n",
       "230   volkswagen  passat    2.0  2008    4    auto(s6)   f   19   28  p   \n",
       "231   volkswagen  passat    2.0  2008    4  manual(m6)   f   21   29  p   \n",
       "232   volkswagen  passat    2.8  1999    6    auto(l5)   f   16   26  p   \n",
       "233   volkswagen  passat    2.8  1999    6  manual(m5)   f   18   26  p   \n",
       "234   volkswagen  passat    3.6  2008    6    auto(s6)   f   17   26  p   \n",
       "\n",
       "       class  \n",
       "1    compact  \n",
       "2    compact  \n",
       "3    compact  \n",
       "4    compact  \n",
       "5    compact  \n",
       "..       ...  \n",
       "230  midsize  \n",
       "231  midsize  \n",
       "232  midsize  \n",
       "233  midsize  \n",
       "234  midsize  \n",
       "\n",
       "[234 rows x 11 columns]"
      ]
     },
     "execution_count": 15,
     "metadata": {},
     "output_type": "execute_result"
    }
   ],
   "source": [
    "from pydataset import data\n",
    "mpg = data('mpg')\n",
    "mpg"
   ]
  },
  {
   "cell_type": "markdown",
   "id": "9b0ba6b0",
   "metadata": {},
   "source": [
    "### Is there a difference in fuel-efficiency in cars from 2008 vs 1999?"
   ]
  },
  {
   "cell_type": "markdown",
   "id": "38b337c2",
   "metadata": {},
   "source": [
    "$H_0$: Fuel-efficiency in cars from 2008 == fuel-efficiency in cars from 1999"
   ]
  },
  {
   "cell_type": "markdown",
   "id": "86326a3f",
   "metadata": {},
   "source": [
    "$H_a$: Fuel-efficiency in cars from 2008 != fuel-efficiency in cars from 1999"
   ]
  },
  {
   "cell_type": "code",
   "execution_count": 16,
   "id": "f5eaa07a",
   "metadata": {},
   "outputs": [],
   "source": [
    "alpha = 0.05"
   ]
  },
  {
   "cell_type": "code",
   "execution_count": 17,
   "id": "227fa7ef",
   "metadata": {},
   "outputs": [],
   "source": [
    "#This will be a two tailed t-test using two samples.\n",
    "#x1 will be the sample of cars from 2008\n",
    "#x2 will be the sample of cars from 1999\n",
    "x1 = mpg[mpg.year == 2008]\n",
    "x2 = mpg[mpg.year == 1999]"
   ]
  },
  {
   "cell_type": "code",
   "execution_count": 18,
   "id": "3b38983e",
   "metadata": {},
   "outputs": [
    {
     "name": "stderr",
     "output_type": "stream",
     "text": [
      "/Users/johnathonsmith/opt/miniconda3/lib/python3.9/site-packages/pandas/core/frame.py:3607: SettingWithCopyWarning: \n",
      "A value is trying to be set on a copy of a slice from a DataFrame.\n",
      "Try using .loc[row_indexer,col_indexer] = value instead\n",
      "\n",
      "See the caveats in the documentation: https://pandas.pydata.org/pandas-docs/stable/user_guide/indexing.html#returning-a-view-versus-a-copy\n",
      "  self._set_item(key, value)\n"
     ]
    },
    {
     "data": {
      "text/plain": [
       "20.076923076923077"
      ]
     },
     "execution_count": 18,
     "metadata": {},
     "output_type": "execute_result"
    }
   ],
   "source": [
    "x1['fuel_efficiency'] = (x1.cty + x1.hwy) / 2\n",
    "x1_mean = x1.fuel_efficiency.mean()\n",
    "x1_mean"
   ]
  },
  {
   "cell_type": "code",
   "execution_count": 19,
   "id": "433fc78b",
   "metadata": {},
   "outputs": [
    {
     "data": {
      "text/plain": [
       "20.22222222222222"
      ]
     },
     "execution_count": 19,
     "metadata": {},
     "output_type": "execute_result"
    }
   ],
   "source": [
    "x2['fuel_efficiency'] = (x2.cty + x2.hwy) / 2\n",
    "x2_mean = x2.fuel_efficiency.mean()\n",
    "x2_mean"
   ]
  },
  {
   "cell_type": "code",
   "execution_count": 20,
   "id": "d83243aa",
   "metadata": {},
   "outputs": [
    {
     "data": {
      "text/plain": [
       "(117, 12)"
      ]
     },
     "execution_count": 20,
     "metadata": {},
     "output_type": "execute_result"
    }
   ],
   "source": [
    "x1.shape"
   ]
  },
  {
   "cell_type": "code",
   "execution_count": 21,
   "id": "7e0dabb0",
   "metadata": {},
   "outputs": [
    {
     "data": {
      "text/plain": [
       "(117, 12)"
      ]
     },
     "execution_count": 21,
     "metadata": {},
     "output_type": "execute_result"
    }
   ],
   "source": [
    "x2.shape"
   ]
  },
  {
   "cell_type": "code",
   "execution_count": 22,
   "id": "5da0ef0b",
   "metadata": {},
   "outputs": [
    {
     "data": {
      "text/plain": [
       "24.097480106100797"
      ]
     },
     "execution_count": 22,
     "metadata": {},
     "output_type": "execute_result"
    }
   ],
   "source": [
    "x1.fuel_efficiency.var()"
   ]
  },
  {
   "cell_type": "code",
   "execution_count": 23,
   "id": "d1a0e746",
   "metadata": {},
   "outputs": [
    {
     "data": {
      "text/plain": [
       "27.122605363984675"
      ]
     },
     "execution_count": 23,
     "metadata": {},
     "output_type": "execute_result"
    }
   ],
   "source": [
    "x2.fuel_efficiency.var()"
   ]
  },
  {
   "cell_type": "markdown",
   "id": "d2fec615",
   "metadata": {},
   "source": [
    "### Do they meet the 3 requirements?\n",
    "    1) Both are independent of each other.\n",
    "    2) Both samples have n > 30, so are assumed to be normally distributed\n",
    "    3) The variances are close enough to be considered equal"
   ]
  },
  {
   "cell_type": "code",
   "execution_count": 24,
   "id": "422d1947",
   "metadata": {},
   "outputs": [],
   "source": [
    "t, p = stats.ttest_ind(x1.fuel_efficiency, x2.fuel_efficiency)"
   ]
  },
  {
   "cell_type": "code",
   "execution_count": 25,
   "id": "36c7b0d2",
   "metadata": {},
   "outputs": [
    {
     "data": {
      "text/plain": [
       "-0.21960177245940962"
      ]
     },
     "execution_count": 25,
     "metadata": {},
     "output_type": "execute_result"
    }
   ],
   "source": [
    "t"
   ]
  },
  {
   "cell_type": "code",
   "execution_count": 26,
   "id": "308e200e",
   "metadata": {},
   "outputs": [
    {
     "data": {
      "text/plain": [
       "0.8263744040323578"
      ]
     },
     "execution_count": 26,
     "metadata": {},
     "output_type": "execute_result"
    }
   ],
   "source": [
    "p"
   ]
  },
  {
   "cell_type": "code",
   "execution_count": 27,
   "id": "05f3c00f",
   "metadata": {},
   "outputs": [
    {
     "data": {
      "text/plain": [
       "False"
      ]
     },
     "execution_count": 27,
     "metadata": {},
     "output_type": "execute_result"
    }
   ],
   "source": [
    "p < alpha"
   ]
  },
  {
   "cell_type": "markdown",
   "id": "2177585c",
   "metadata": {},
   "source": [
    "#### Since p is greater than 0.05, we fail to reject the null hypothesis."
   ]
  },
  {
   "cell_type": "markdown",
   "id": "aa08ce44",
   "metadata": {},
   "source": [
    "### Are compact cars more fuel-efficient than the average car?"
   ]
  },
  {
   "cell_type": "markdown",
   "id": "8e10cdbd",
   "metadata": {},
   "source": [
    "$H_0$: Average compact car fuel-efficiency <= average fuel-efficiency\n",
    "\n",
    "$H_a$: Average compact car fuel-efficiency > average fuel-efficiency"
   ]
  },
  {
   "cell_type": "code",
   "execution_count": 28,
   "id": "e3d2e6bd",
   "metadata": {},
   "outputs": [
    {
     "data": {
      "text/html": [
       "<div>\n",
       "<style scoped>\n",
       "    .dataframe tbody tr th:only-of-type {\n",
       "        vertical-align: middle;\n",
       "    }\n",
       "\n",
       "    .dataframe tbody tr th {\n",
       "        vertical-align: top;\n",
       "    }\n",
       "\n",
       "    .dataframe thead th {\n",
       "        text-align: right;\n",
       "    }\n",
       "</style>\n",
       "<table border=\"1\" class=\"dataframe\">\n",
       "  <thead>\n",
       "    <tr style=\"text-align: right;\">\n",
       "      <th></th>\n",
       "      <th>manufacturer</th>\n",
       "      <th>model</th>\n",
       "      <th>displ</th>\n",
       "      <th>year</th>\n",
       "      <th>cyl</th>\n",
       "      <th>trans</th>\n",
       "      <th>drv</th>\n",
       "      <th>cty</th>\n",
       "      <th>hwy</th>\n",
       "      <th>fl</th>\n",
       "      <th>class</th>\n",
       "      <th>fuel_efficiency</th>\n",
       "    </tr>\n",
       "  </thead>\n",
       "  <tbody>\n",
       "    <tr>\n",
       "      <th>1</th>\n",
       "      <td>audi</td>\n",
       "      <td>a4</td>\n",
       "      <td>1.8</td>\n",
       "      <td>1999</td>\n",
       "      <td>4</td>\n",
       "      <td>auto(l5)</td>\n",
       "      <td>f</td>\n",
       "      <td>18</td>\n",
       "      <td>29</td>\n",
       "      <td>p</td>\n",
       "      <td>compact</td>\n",
       "      <td>23.5</td>\n",
       "    </tr>\n",
       "    <tr>\n",
       "      <th>2</th>\n",
       "      <td>audi</td>\n",
       "      <td>a4</td>\n",
       "      <td>1.8</td>\n",
       "      <td>1999</td>\n",
       "      <td>4</td>\n",
       "      <td>manual(m5)</td>\n",
       "      <td>f</td>\n",
       "      <td>21</td>\n",
       "      <td>29</td>\n",
       "      <td>p</td>\n",
       "      <td>compact</td>\n",
       "      <td>25.0</td>\n",
       "    </tr>\n",
       "    <tr>\n",
       "      <th>3</th>\n",
       "      <td>audi</td>\n",
       "      <td>a4</td>\n",
       "      <td>2.0</td>\n",
       "      <td>2008</td>\n",
       "      <td>4</td>\n",
       "      <td>manual(m6)</td>\n",
       "      <td>f</td>\n",
       "      <td>20</td>\n",
       "      <td>31</td>\n",
       "      <td>p</td>\n",
       "      <td>compact</td>\n",
       "      <td>25.5</td>\n",
       "    </tr>\n",
       "    <tr>\n",
       "      <th>4</th>\n",
       "      <td>audi</td>\n",
       "      <td>a4</td>\n",
       "      <td>2.0</td>\n",
       "      <td>2008</td>\n",
       "      <td>4</td>\n",
       "      <td>auto(av)</td>\n",
       "      <td>f</td>\n",
       "      <td>21</td>\n",
       "      <td>30</td>\n",
       "      <td>p</td>\n",
       "      <td>compact</td>\n",
       "      <td>25.5</td>\n",
       "    </tr>\n",
       "    <tr>\n",
       "      <th>5</th>\n",
       "      <td>audi</td>\n",
       "      <td>a4</td>\n",
       "      <td>2.8</td>\n",
       "      <td>1999</td>\n",
       "      <td>6</td>\n",
       "      <td>auto(l5)</td>\n",
       "      <td>f</td>\n",
       "      <td>16</td>\n",
       "      <td>26</td>\n",
       "      <td>p</td>\n",
       "      <td>compact</td>\n",
       "      <td>21.0</td>\n",
       "    </tr>\n",
       "    <tr>\n",
       "      <th>...</th>\n",
       "      <td>...</td>\n",
       "      <td>...</td>\n",
       "      <td>...</td>\n",
       "      <td>...</td>\n",
       "      <td>...</td>\n",
       "      <td>...</td>\n",
       "      <td>...</td>\n",
       "      <td>...</td>\n",
       "      <td>...</td>\n",
       "      <td>...</td>\n",
       "      <td>...</td>\n",
       "      <td>...</td>\n",
       "    </tr>\n",
       "    <tr>\n",
       "      <th>230</th>\n",
       "      <td>volkswagen</td>\n",
       "      <td>passat</td>\n",
       "      <td>2.0</td>\n",
       "      <td>2008</td>\n",
       "      <td>4</td>\n",
       "      <td>auto(s6)</td>\n",
       "      <td>f</td>\n",
       "      <td>19</td>\n",
       "      <td>28</td>\n",
       "      <td>p</td>\n",
       "      <td>midsize</td>\n",
       "      <td>23.5</td>\n",
       "    </tr>\n",
       "    <tr>\n",
       "      <th>231</th>\n",
       "      <td>volkswagen</td>\n",
       "      <td>passat</td>\n",
       "      <td>2.0</td>\n",
       "      <td>2008</td>\n",
       "      <td>4</td>\n",
       "      <td>manual(m6)</td>\n",
       "      <td>f</td>\n",
       "      <td>21</td>\n",
       "      <td>29</td>\n",
       "      <td>p</td>\n",
       "      <td>midsize</td>\n",
       "      <td>25.0</td>\n",
       "    </tr>\n",
       "    <tr>\n",
       "      <th>232</th>\n",
       "      <td>volkswagen</td>\n",
       "      <td>passat</td>\n",
       "      <td>2.8</td>\n",
       "      <td>1999</td>\n",
       "      <td>6</td>\n",
       "      <td>auto(l5)</td>\n",
       "      <td>f</td>\n",
       "      <td>16</td>\n",
       "      <td>26</td>\n",
       "      <td>p</td>\n",
       "      <td>midsize</td>\n",
       "      <td>21.0</td>\n",
       "    </tr>\n",
       "    <tr>\n",
       "      <th>233</th>\n",
       "      <td>volkswagen</td>\n",
       "      <td>passat</td>\n",
       "      <td>2.8</td>\n",
       "      <td>1999</td>\n",
       "      <td>6</td>\n",
       "      <td>manual(m5)</td>\n",
       "      <td>f</td>\n",
       "      <td>18</td>\n",
       "      <td>26</td>\n",
       "      <td>p</td>\n",
       "      <td>midsize</td>\n",
       "      <td>22.0</td>\n",
       "    </tr>\n",
       "    <tr>\n",
       "      <th>234</th>\n",
       "      <td>volkswagen</td>\n",
       "      <td>passat</td>\n",
       "      <td>3.6</td>\n",
       "      <td>2008</td>\n",
       "      <td>6</td>\n",
       "      <td>auto(s6)</td>\n",
       "      <td>f</td>\n",
       "      <td>17</td>\n",
       "      <td>26</td>\n",
       "      <td>p</td>\n",
       "      <td>midsize</td>\n",
       "      <td>21.5</td>\n",
       "    </tr>\n",
       "  </tbody>\n",
       "</table>\n",
       "<p>234 rows × 12 columns</p>\n",
       "</div>"
      ],
      "text/plain": [
       "    manufacturer   model  displ  year  cyl       trans drv  cty  hwy fl  \\\n",
       "1           audi      a4    1.8  1999    4    auto(l5)   f   18   29  p   \n",
       "2           audi      a4    1.8  1999    4  manual(m5)   f   21   29  p   \n",
       "3           audi      a4    2.0  2008    4  manual(m6)   f   20   31  p   \n",
       "4           audi      a4    2.0  2008    4    auto(av)   f   21   30  p   \n",
       "5           audi      a4    2.8  1999    6    auto(l5)   f   16   26  p   \n",
       "..           ...     ...    ...   ...  ...         ...  ..  ...  ... ..   \n",
       "230   volkswagen  passat    2.0  2008    4    auto(s6)   f   19   28  p   \n",
       "231   volkswagen  passat    2.0  2008    4  manual(m6)   f   21   29  p   \n",
       "232   volkswagen  passat    2.8  1999    6    auto(l5)   f   16   26  p   \n",
       "233   volkswagen  passat    2.8  1999    6  manual(m5)   f   18   26  p   \n",
       "234   volkswagen  passat    3.6  2008    6    auto(s6)   f   17   26  p   \n",
       "\n",
       "       class  fuel_efficiency  \n",
       "1    compact             23.5  \n",
       "2    compact             25.0  \n",
       "3    compact             25.5  \n",
       "4    compact             25.5  \n",
       "5    compact             21.0  \n",
       "..       ...              ...  \n",
       "230  midsize             23.5  \n",
       "231  midsize             25.0  \n",
       "232  midsize             21.0  \n",
       "233  midsize             22.0  \n",
       "234  midsize             21.5  \n",
       "\n",
       "[234 rows x 12 columns]"
      ]
     },
     "execution_count": 28,
     "metadata": {},
     "output_type": "execute_result"
    }
   ],
   "source": [
    "mpg['fuel_efficiency'] = (mpg.cty + mpg.hwy) / 2\n",
    "mpg"
   ]
  },
  {
   "cell_type": "code",
   "execution_count": 29,
   "id": "7e8ef00f",
   "metadata": {},
   "outputs": [],
   "source": [
    "#x1 will be compact cars\n",
    "#x2 will be all cars\n",
    "x1 = mpg[mpg['class'] == 'compact'].fuel_efficiency"
   ]
  },
  {
   "cell_type": "code",
   "execution_count": 30,
   "id": "49602484",
   "metadata": {},
   "outputs": [],
   "source": [
    "x2 = mpg.fuel_efficiency"
   ]
  },
  {
   "cell_type": "code",
   "execution_count": 31,
   "id": "1f78d689",
   "metadata": {},
   "outputs": [
    {
     "data": {
      "text/plain": [
       "(47,)"
      ]
     },
     "execution_count": 31,
     "metadata": {},
     "output_type": "execute_result"
    }
   ],
   "source": [
    "x1.shape"
   ]
  },
  {
   "cell_type": "code",
   "execution_count": 32,
   "id": "27acd072",
   "metadata": {},
   "outputs": [
    {
     "data": {
      "text/plain": [
       "(234,)"
      ]
     },
     "execution_count": 32,
     "metadata": {},
     "output_type": "execute_result"
    }
   ],
   "source": [
    "x2.shape"
   ]
  },
  {
   "cell_type": "markdown",
   "id": "a8ba5a42",
   "metadata": {},
   "source": [
    "Both have n > 30 so are assumed to be normally distributed"
   ]
  },
  {
   "cell_type": "code",
   "execution_count": 33,
   "id": "c55b8a18",
   "metadata": {},
   "outputs": [],
   "source": [
    "overall_mean = x2.mean()"
   ]
  },
  {
   "cell_type": "code",
   "execution_count": 34,
   "id": "f5f79ea6",
   "metadata": {},
   "outputs": [],
   "source": [
    "t, p = stats.ttest_1samp(x1, overall_mean)"
   ]
  },
  {
   "cell_type": "code",
   "execution_count": 35,
   "id": "ff8e3d92",
   "metadata": {},
   "outputs": [
    {
     "data": {
      "text/plain": [
       "7.896888573132535"
      ]
     },
     "execution_count": 35,
     "metadata": {},
     "output_type": "execute_result"
    }
   ],
   "source": [
    "t"
   ]
  },
  {
   "cell_type": "code",
   "execution_count": 36,
   "id": "435d28ce",
   "metadata": {},
   "outputs": [
    {
     "data": {
      "text/plain": [
       "4.1985637943171336e-10"
      ]
     },
     "execution_count": 36,
     "metadata": {},
     "output_type": "execute_result"
    }
   ],
   "source": [
    "p"
   ]
  },
  {
   "cell_type": "code",
   "execution_count": 37,
   "id": "76d37ea7",
   "metadata": {},
   "outputs": [
    {
     "data": {
      "text/plain": [
       "True"
      ]
     },
     "execution_count": 37,
     "metadata": {},
     "output_type": "execute_result"
    }
   ],
   "source": [
    "p < alpha"
   ]
  },
  {
   "cell_type": "markdown",
   "id": "0d3a2491",
   "metadata": {},
   "source": [
    "#### Since p is less than 0.05 and t is positive, we reject the null hypothesis."
   ]
  },
  {
   "cell_type": "markdown",
   "id": "37d57730",
   "metadata": {},
   "source": [
    "### Do manual cars get better gas mileage than automatic cars?"
   ]
  },
  {
   "cell_type": "markdown",
   "id": "ecbc6bc1",
   "metadata": {},
   "source": [
    "$H_0$: Average manual car fuel-efficiency <= Average automatic car fuel-efficiency\n",
    "\n",
    "$H_a$: Average manual car fuel-efficiency > Average automatic car fuel-efficinecy"
   ]
  },
  {
   "cell_type": "code",
   "execution_count": 38,
   "id": "09eca75d",
   "metadata": {},
   "outputs": [],
   "source": [
    "#This test will be a single tailed, two sample t-test\n",
    "#x1 will be manual car fuel efficiency\n",
    "#x2 will be automatic car fuel efficiency\n",
    "x1 = mpg[mpg.trans.str.startswith('manual')].fuel_efficiency\n",
    "x2 = mpg[mpg.trans.str.startswith('auto')].fuel_efficiency"
   ]
  },
  {
   "cell_type": "code",
   "execution_count": 39,
   "id": "5b58301d",
   "metadata": {},
   "outputs": [
    {
     "data": {
      "text/plain": [
       "(77,)"
      ]
     },
     "execution_count": 39,
     "metadata": {},
     "output_type": "execute_result"
    }
   ],
   "source": [
    "x1.shape"
   ]
  },
  {
   "cell_type": "code",
   "execution_count": 40,
   "id": "e784568a",
   "metadata": {},
   "outputs": [
    {
     "data": {
      "text/plain": [
       "(157,)"
      ]
     },
     "execution_count": 40,
     "metadata": {},
     "output_type": "execute_result"
    }
   ],
   "source": [
    "x2.shape"
   ]
  },
  {
   "cell_type": "code",
   "execution_count": 41,
   "id": "1f4cee96",
   "metadata": {},
   "outputs": [
    {
     "data": {
      "text/plain": [
       "26.635167464114833"
      ]
     },
     "execution_count": 41,
     "metadata": {},
     "output_type": "execute_result"
    }
   ],
   "source": [
    "x1.var()"
   ]
  },
  {
   "cell_type": "code",
   "execution_count": 42,
   "id": "74581c92",
   "metadata": {},
   "outputs": [
    {
     "data": {
      "text/plain": [
       "21.942777233382323"
      ]
     },
     "execution_count": 42,
     "metadata": {},
     "output_type": "execute_result"
    }
   ],
   "source": [
    "x2.var()"
   ]
  },
  {
   "cell_type": "markdown",
   "id": "dffd7c11",
   "metadata": {},
   "source": [
    "### Are the requirements met?\n",
    "    1) Both are considered independent of each other\n",
    "    2) Both have n > 30 so are assumed to be normally distributed\n",
    "    3) Variances are not close enough for me to say they are equal, \n",
    "        but this can be accounted for in the function"
   ]
  },
  {
   "cell_type": "code",
   "execution_count": 43,
   "id": "9bf706d4",
   "metadata": {},
   "outputs": [],
   "source": [
    "t, p = stats.ttest_ind(x1, x2, equal_var = False)"
   ]
  },
  {
   "cell_type": "code",
   "execution_count": 44,
   "id": "891ee62e",
   "metadata": {},
   "outputs": [
    {
     "data": {
      "text/plain": [
       "4.443514012903071"
      ]
     },
     "execution_count": 44,
     "metadata": {},
     "output_type": "execute_result"
    }
   ],
   "source": [
    "t"
   ]
  },
  {
   "cell_type": "code",
   "execution_count": 45,
   "id": "903bd6b6",
   "metadata": {},
   "outputs": [
    {
     "data": {
      "text/plain": [
       "1.795224899991793e-05"
      ]
     },
     "execution_count": 45,
     "metadata": {},
     "output_type": "execute_result"
    }
   ],
   "source": [
    "p"
   ]
  },
  {
   "cell_type": "code",
   "execution_count": 46,
   "id": "4cc34e8b",
   "metadata": {},
   "outputs": [
    {
     "data": {
      "text/plain": [
       "True"
      ]
     },
     "execution_count": 46,
     "metadata": {},
     "output_type": "execute_result"
    }
   ],
   "source": [
    "p < alpha"
   ]
  },
  {
   "cell_type": "markdown",
   "id": "110934c3",
   "metadata": {},
   "source": [
    "#### Since p is less than 0.05 and t is positive, we reject the null hypothesis"
   ]
  },
  {
   "cell_type": "markdown",
   "id": "e3c1f2fc",
   "metadata": {},
   "source": [
    "# Correlation"
   ]
  },
  {
   "cell_type": "markdown",
   "id": "a16c4eae",
   "metadata": {},
   "source": [
    "### Use the telco_churn data."
   ]
  },
  {
   "cell_type": "code",
   "execution_count": 47,
   "id": "e2aea56e",
   "metadata": {},
   "outputs": [
    {
     "data": {
      "text/html": [
       "<div>\n",
       "<style scoped>\n",
       "    .dataframe tbody tr th:only-of-type {\n",
       "        vertical-align: middle;\n",
       "    }\n",
       "\n",
       "    .dataframe tbody tr th {\n",
       "        vertical-align: top;\n",
       "    }\n",
       "\n",
       "    .dataframe thead th {\n",
       "        text-align: right;\n",
       "    }\n",
       "</style>\n",
       "<table border=\"1\" class=\"dataframe\">\n",
       "  <thead>\n",
       "    <tr style=\"text-align: right;\">\n",
       "      <th></th>\n",
       "      <th>id</th>\n",
       "      <th>customer_id</th>\n",
       "      <th>gender</th>\n",
       "      <th>is_senior_citizen</th>\n",
       "      <th>partner</th>\n",
       "      <th>dependents</th>\n",
       "      <th>phone_service</th>\n",
       "      <th>internet_service</th>\n",
       "      <th>contract_int</th>\n",
       "      <th>payment_type</th>\n",
       "      <th>...</th>\n",
       "      <th>tenure_month</th>\n",
       "      <th>has_churned</th>\n",
       "      <th>has_phone</th>\n",
       "      <th>has_internet</th>\n",
       "      <th>has_internet_and_phone</th>\n",
       "      <th>partner_dependents</th>\n",
       "      <th>start_day</th>\n",
       "      <th>phone_type</th>\n",
       "      <th>internet_type</th>\n",
       "      <th>contract_type</th>\n",
       "    </tr>\n",
       "  </thead>\n",
       "  <tbody>\n",
       "    <tr>\n",
       "      <th>0</th>\n",
       "      <td>0</td>\n",
       "      <td>0002-ORFBO</td>\n",
       "      <td>Female</td>\n",
       "      <td>0</td>\n",
       "      <td>Yes</td>\n",
       "      <td>Yes</td>\n",
       "      <td>1</td>\n",
       "      <td>1</td>\n",
       "      <td>1</td>\n",
       "      <td>Mailed check</td>\n",
       "      <td>...</td>\n",
       "      <td>9.0</td>\n",
       "      <td>False</td>\n",
       "      <td>True</td>\n",
       "      <td>True</td>\n",
       "      <td>True</td>\n",
       "      <td>3</td>\n",
       "      <td>2020-05-03</td>\n",
       "      <td>One Line</td>\n",
       "      <td>DSL</td>\n",
       "      <td>1 Year</td>\n",
       "    </tr>\n",
       "    <tr>\n",
       "      <th>1</th>\n",
       "      <td>1</td>\n",
       "      <td>0003-MKNFE</td>\n",
       "      <td>Male</td>\n",
       "      <td>0</td>\n",
       "      <td>No</td>\n",
       "      <td>No</td>\n",
       "      <td>2</td>\n",
       "      <td>1</td>\n",
       "      <td>0</td>\n",
       "      <td>Mailed check</td>\n",
       "      <td>...</td>\n",
       "      <td>9.1</td>\n",
       "      <td>False</td>\n",
       "      <td>True</td>\n",
       "      <td>True</td>\n",
       "      <td>True</td>\n",
       "      <td>0</td>\n",
       "      <td>2020-05-03</td>\n",
       "      <td>Two or More Lines</td>\n",
       "      <td>DSL</td>\n",
       "      <td>Month-to-Month</td>\n",
       "    </tr>\n",
       "    <tr>\n",
       "      <th>2</th>\n",
       "      <td>2</td>\n",
       "      <td>0004-TLHLJ</td>\n",
       "      <td>Male</td>\n",
       "      <td>0</td>\n",
       "      <td>No</td>\n",
       "      <td>No</td>\n",
       "      <td>1</td>\n",
       "      <td>2</td>\n",
       "      <td>0</td>\n",
       "      <td>Electronic check</td>\n",
       "      <td>...</td>\n",
       "      <td>3.8</td>\n",
       "      <td>True</td>\n",
       "      <td>True</td>\n",
       "      <td>True</td>\n",
       "      <td>True</td>\n",
       "      <td>0</td>\n",
       "      <td>2020-11-03</td>\n",
       "      <td>One Line</td>\n",
       "      <td>Fiber Optic</td>\n",
       "      <td>Month-to-Month</td>\n",
       "    </tr>\n",
       "    <tr>\n",
       "      <th>3</th>\n",
       "      <td>3</td>\n",
       "      <td>0011-IGKFF</td>\n",
       "      <td>Male</td>\n",
       "      <td>1</td>\n",
       "      <td>Yes</td>\n",
       "      <td>No</td>\n",
       "      <td>1</td>\n",
       "      <td>2</td>\n",
       "      <td>0</td>\n",
       "      <td>Electronic check</td>\n",
       "      <td>...</td>\n",
       "      <td>12.6</td>\n",
       "      <td>True</td>\n",
       "      <td>True</td>\n",
       "      <td>True</td>\n",
       "      <td>True</td>\n",
       "      <td>1</td>\n",
       "      <td>2020-02-03</td>\n",
       "      <td>One Line</td>\n",
       "      <td>Fiber Optic</td>\n",
       "      <td>Month-to-Month</td>\n",
       "    </tr>\n",
       "    <tr>\n",
       "      <th>4</th>\n",
       "      <td>4</td>\n",
       "      <td>0013-EXCHZ</td>\n",
       "      <td>Female</td>\n",
       "      <td>1</td>\n",
       "      <td>Yes</td>\n",
       "      <td>No</td>\n",
       "      <td>1</td>\n",
       "      <td>2</td>\n",
       "      <td>0</td>\n",
       "      <td>Mailed check</td>\n",
       "      <td>...</td>\n",
       "      <td>3.2</td>\n",
       "      <td>True</td>\n",
       "      <td>True</td>\n",
       "      <td>True</td>\n",
       "      <td>True</td>\n",
       "      <td>1</td>\n",
       "      <td>2020-11-03</td>\n",
       "      <td>One Line</td>\n",
       "      <td>Fiber Optic</td>\n",
       "      <td>Month-to-Month</td>\n",
       "    </tr>\n",
       "    <tr>\n",
       "      <th>...</th>\n",
       "      <td>...</td>\n",
       "      <td>...</td>\n",
       "      <td>...</td>\n",
       "      <td>...</td>\n",
       "      <td>...</td>\n",
       "      <td>...</td>\n",
       "      <td>...</td>\n",
       "      <td>...</td>\n",
       "      <td>...</td>\n",
       "      <td>...</td>\n",
       "      <td>...</td>\n",
       "      <td>...</td>\n",
       "      <td>...</td>\n",
       "      <td>...</td>\n",
       "      <td>...</td>\n",
       "      <td>...</td>\n",
       "      <td>...</td>\n",
       "      <td>...</td>\n",
       "      <td>...</td>\n",
       "      <td>...</td>\n",
       "      <td>...</td>\n",
       "    </tr>\n",
       "    <tr>\n",
       "      <th>7027</th>\n",
       "      <td>7038</td>\n",
       "      <td>9987-LUTYD</td>\n",
       "      <td>Male</td>\n",
       "      <td>0</td>\n",
       "      <td>Yes</td>\n",
       "      <td>Yes</td>\n",
       "      <td>1</td>\n",
       "      <td>0</td>\n",
       "      <td>2</td>\n",
       "      <td>Credit card (automatic)</td>\n",
       "      <td>...</td>\n",
       "      <td>43.4</td>\n",
       "      <td>False</td>\n",
       "      <td>True</td>\n",
       "      <td>False</td>\n",
       "      <td>False</td>\n",
       "      <td>3</td>\n",
       "      <td>2017-07-03</td>\n",
       "      <td>One Line</td>\n",
       "      <td>No Internet Service</td>\n",
       "      <td>2 Year</td>\n",
       "    </tr>\n",
       "    <tr>\n",
       "      <th>7028</th>\n",
       "      <td>7039</td>\n",
       "      <td>9992-RRAMN</td>\n",
       "      <td>Male</td>\n",
       "      <td>0</td>\n",
       "      <td>No</td>\n",
       "      <td>No</td>\n",
       "      <td>1</td>\n",
       "      <td>0</td>\n",
       "      <td>0</td>\n",
       "      <td>Mailed check</td>\n",
       "      <td>...</td>\n",
       "      <td>1.0</td>\n",
       "      <td>False</td>\n",
       "      <td>True</td>\n",
       "      <td>False</td>\n",
       "      <td>False</td>\n",
       "      <td>0</td>\n",
       "      <td>2021-01-03</td>\n",
       "      <td>One Line</td>\n",
       "      <td>No Internet Service</td>\n",
       "      <td>Month-to-Month</td>\n",
       "    </tr>\n",
       "    <tr>\n",
       "      <th>7029</th>\n",
       "      <td>7040</td>\n",
       "      <td>9992-UJOEL</td>\n",
       "      <td>Male</td>\n",
       "      <td>1</td>\n",
       "      <td>Yes</td>\n",
       "      <td>Yes</td>\n",
       "      <td>1</td>\n",
       "      <td>2</td>\n",
       "      <td>1</td>\n",
       "      <td>Bank transfer (automatic)</td>\n",
       "      <td>...</td>\n",
       "      <td>47.3</td>\n",
       "      <td>False</td>\n",
       "      <td>True</td>\n",
       "      <td>True</td>\n",
       "      <td>True</td>\n",
       "      <td>3</td>\n",
       "      <td>2017-03-03</td>\n",
       "      <td>One Line</td>\n",
       "      <td>Fiber Optic</td>\n",
       "      <td>1 Year</td>\n",
       "    </tr>\n",
       "    <tr>\n",
       "      <th>7030</th>\n",
       "      <td>7041</td>\n",
       "      <td>9993-LHIEB</td>\n",
       "      <td>Female</td>\n",
       "      <td>0</td>\n",
       "      <td>No</td>\n",
       "      <td>No</td>\n",
       "      <td>1</td>\n",
       "      <td>2</td>\n",
       "      <td>1</td>\n",
       "      <td>Mailed check</td>\n",
       "      <td>...</td>\n",
       "      <td>6.7</td>\n",
       "      <td>False</td>\n",
       "      <td>True</td>\n",
       "      <td>True</td>\n",
       "      <td>True</td>\n",
       "      <td>0</td>\n",
       "      <td>2020-08-03</td>\n",
       "      <td>One Line</td>\n",
       "      <td>Fiber Optic</td>\n",
       "      <td>1 Year</td>\n",
       "    </tr>\n",
       "    <tr>\n",
       "      <th>7031</th>\n",
       "      <td>7042</td>\n",
       "      <td>9995-HOTOH</td>\n",
       "      <td>Female</td>\n",
       "      <td>0</td>\n",
       "      <td>No</td>\n",
       "      <td>No</td>\n",
       "      <td>1</td>\n",
       "      <td>2</td>\n",
       "      <td>0</td>\n",
       "      <td>Mailed check</td>\n",
       "      <td>...</td>\n",
       "      <td>1.0</td>\n",
       "      <td>True</td>\n",
       "      <td>True</td>\n",
       "      <td>True</td>\n",
       "      <td>True</td>\n",
       "      <td>0</td>\n",
       "      <td>2021-01-03</td>\n",
       "      <td>One Line</td>\n",
       "      <td>Fiber Optic</td>\n",
       "      <td>Month-to-Month</td>\n",
       "    </tr>\n",
       "  </tbody>\n",
       "</table>\n",
       "<p>7032 rows × 23 columns</p>\n",
       "</div>"
      ],
      "text/plain": [
       "        id customer_id  gender  is_senior_citizen partner dependents  \\\n",
       "0        0  0002-ORFBO  Female                  0     Yes        Yes   \n",
       "1        1  0003-MKNFE    Male                  0      No         No   \n",
       "2        2  0004-TLHLJ    Male                  0      No         No   \n",
       "3        3  0011-IGKFF    Male                  1     Yes         No   \n",
       "4        4  0013-EXCHZ  Female                  1     Yes         No   \n",
       "...    ...         ...     ...                ...     ...        ...   \n",
       "7027  7038  9987-LUTYD    Male                  0     Yes        Yes   \n",
       "7028  7039  9992-RRAMN    Male                  0      No         No   \n",
       "7029  7040  9992-UJOEL    Male                  1     Yes        Yes   \n",
       "7030  7041  9993-LHIEB  Female                  0      No         No   \n",
       "7031  7042  9995-HOTOH  Female                  0      No         No   \n",
       "\n",
       "      phone_service  internet_service  contract_int  \\\n",
       "0                 1                 1             1   \n",
       "1                 2                 1             0   \n",
       "2                 1                 2             0   \n",
       "3                 1                 2             0   \n",
       "4                 1                 2             0   \n",
       "...             ...               ...           ...   \n",
       "7027              1                 0             2   \n",
       "7028              1                 0             0   \n",
       "7029              1                 2             1   \n",
       "7030              1                 2             1   \n",
       "7031              1                 2             0   \n",
       "\n",
       "                   payment_type  ...  tenure_month  has_churned has_phone  \\\n",
       "0                  Mailed check  ...           9.0        False      True   \n",
       "1                  Mailed check  ...           9.1        False      True   \n",
       "2              Electronic check  ...           3.8         True      True   \n",
       "3              Electronic check  ...          12.6         True      True   \n",
       "4                  Mailed check  ...           3.2         True      True   \n",
       "...                         ...  ...           ...          ...       ...   \n",
       "7027    Credit card (automatic)  ...          43.4        False      True   \n",
       "7028               Mailed check  ...           1.0        False      True   \n",
       "7029  Bank transfer (automatic)  ...          47.3        False      True   \n",
       "7030               Mailed check  ...           6.7        False      True   \n",
       "7031               Mailed check  ...           1.0         True      True   \n",
       "\n",
       "      has_internet  has_internet_and_phone  partner_dependents   start_day  \\\n",
       "0             True                    True                   3  2020-05-03   \n",
       "1             True                    True                   0  2020-05-03   \n",
       "2             True                    True                   0  2020-11-03   \n",
       "3             True                    True                   1  2020-02-03   \n",
       "4             True                    True                   1  2020-11-03   \n",
       "...            ...                     ...                 ...         ...   \n",
       "7027         False                   False                   3  2017-07-03   \n",
       "7028         False                   False                   0  2021-01-03   \n",
       "7029          True                    True                   3  2017-03-03   \n",
       "7030          True                    True                   0  2020-08-03   \n",
       "7031          True                    True                   0  2021-01-03   \n",
       "\n",
       "             phone_type        internet_type   contract_type  \n",
       "0              One Line                  DSL          1 Year  \n",
       "1     Two or More Lines                  DSL  Month-to-Month  \n",
       "2              One Line          Fiber Optic  Month-to-Month  \n",
       "3              One Line          Fiber Optic  Month-to-Month  \n",
       "4              One Line          Fiber Optic  Month-to-Month  \n",
       "...                 ...                  ...             ...  \n",
       "7027           One Line  No Internet Service          2 Year  \n",
       "7028           One Line  No Internet Service  Month-to-Month  \n",
       "7029           One Line          Fiber Optic          1 Year  \n",
       "7030           One Line          Fiber Optic          1 Year  \n",
       "7031           One Line          Fiber Optic  Month-to-Month  \n",
       "\n",
       "[7032 rows x 23 columns]"
      ]
     },
     "execution_count": 47,
     "metadata": {},
     "output_type": "execute_result"
    }
   ],
   "source": [
    "telco = pd.read_csv(\"clean_telco.csv\")\n",
    "telco"
   ]
  },
  {
   "cell_type": "markdown",
   "id": "981f8125",
   "metadata": {},
   "source": [
    "### Does tenure correlate with monthly charges?"
   ]
  },
  {
   "cell_type": "markdown",
   "id": "e369f81d",
   "metadata": {},
   "source": [
    "$H_0$: Tenure does not correlate with monthly charges\n",
    "    \n",
    "$H_a$: Tenure does correlate with monthly charges"
   ]
  },
  {
   "cell_type": "code",
   "execution_count": 100,
   "id": "7e5e74a4",
   "metadata": {},
   "outputs": [],
   "source": [
    "x = telco.tenure_month\n",
    "y = telco.monthly_charges\n",
    "alpha = 0.05"
   ]
  },
  {
   "cell_type": "code",
   "execution_count": 49,
   "id": "f9a53e69",
   "metadata": {},
   "outputs": [],
   "source": [
    "r, p = stats.pearsonr(x,y)"
   ]
  },
  {
   "cell_type": "code",
   "execution_count": 50,
   "id": "4de3c2fc",
   "metadata": {},
   "outputs": [
    {
     "data": {
      "text/plain": [
       "(0.24602222678861455, 1.8834273042677756e-97)"
      ]
     },
     "execution_count": 50,
     "metadata": {},
     "output_type": "execute_result"
    }
   ],
   "source": [
    "r, p"
   ]
  },
  {
   "cell_type": "markdown",
   "id": "2383401f",
   "metadata": {},
   "source": [
    "Since p is less than 0.05, we reject the null hypothesis."
   ]
  },
  {
   "cell_type": "markdown",
   "id": "f8b35a3b",
   "metadata": {},
   "source": [
    "### Total Charges?"
   ]
  },
  {
   "cell_type": "markdown",
   "id": "876ba929",
   "metadata": {},
   "source": [
    "$H_0$: Tenure does not correlate with total charges.\n",
    "    \n",
    "$H_a$: Tenure does correlate with total charges."
   ]
  },
  {
   "cell_type": "code",
   "execution_count": 51,
   "id": "a84ddd80",
   "metadata": {},
   "outputs": [],
   "source": [
    "x = telco.tenure_month\n",
    "y = telco.total_charges"
   ]
  },
  {
   "cell_type": "code",
   "execution_count": 52,
   "id": "69fcfd78",
   "metadata": {},
   "outputs": [
    {
     "data": {
      "text/plain": [
       "(0.8257328669183033, 0.0)"
      ]
     },
     "execution_count": 52,
     "metadata": {},
     "output_type": "execute_result"
    }
   ],
   "source": [
    "r, p = stats.pearsonr(x,y)\n",
    "r, p"
   ]
  },
  {
   "cell_type": "markdown",
   "id": "5e2bf3b8",
   "metadata": {},
   "source": [
    "### What happens if you control for phone and internet service?"
   ]
  },
  {
   "cell_type": "code",
   "execution_count": 99,
   "id": "c1f6f2ee",
   "metadata": {
    "scrolled": false
   },
   "outputs": [],
   "source": [
    "### Controlling for phone service\n",
    "has_phone = telco[telco.has_phone == True]"
   ]
  },
  {
   "cell_type": "markdown",
   "id": "100688f3",
   "metadata": {},
   "source": [
    "### Does tenure correlate with monthly charges for people with phone service"
   ]
  },
  {
   "cell_type": "markdown",
   "id": "32fa9e05",
   "metadata": {},
   "source": [
    "$H_0$: Tenure for people with phone service does not correlate with monthly charges for people with phone service.\n",
    "\n",
    "$H_a$: Tenure for people with phone service does correlate with monthly charges for people with phone service."
   ]
  },
  {
   "cell_type": "code",
   "execution_count": 80,
   "id": "15d387b9",
   "metadata": {},
   "outputs": [],
   "source": [
    "x = has_phone.tenure_month\n",
    "y = has_phone.monthly_charges"
   ]
  },
  {
   "cell_type": "code",
   "execution_count": 81,
   "id": "54512e7e",
   "metadata": {},
   "outputs": [
    {
     "data": {
      "text/plain": [
       "(0.24296622457649625, 5.166669584745184e-86)"
      ]
     },
     "execution_count": 81,
     "metadata": {},
     "output_type": "execute_result"
    }
   ],
   "source": [
    "r, p = stats.pearsonr(x, y)\n",
    "r, p"
   ]
  },
  {
   "cell_type": "markdown",
   "id": "b2c2b9c6",
   "metadata": {},
   "source": [
    "Since p is less than 0.05, we reject the null hypothesis."
   ]
  },
  {
   "cell_type": "markdown",
   "id": "2b88d5df",
   "metadata": {},
   "source": [
    "### Does tenure correlate with total charges for people with phone service"
   ]
  },
  {
   "cell_type": "code",
   "execution_count": 82,
   "id": "8026f318",
   "metadata": {},
   "outputs": [],
   "source": [
    "y = has_phone.total_charges"
   ]
  },
  {
   "cell_type": "code",
   "execution_count": 83,
   "id": "1a808844",
   "metadata": {},
   "outputs": [
    {
     "data": {
      "text/plain": [
       "(0.8296284669385314, 0.0)"
      ]
     },
     "execution_count": 83,
     "metadata": {},
     "output_type": "execute_result"
    }
   ],
   "source": [
    "r, p = stats.pearsonr(x, y)\n",
    "r, p"
   ]
  },
  {
   "cell_type": "markdown",
   "id": "feed14b7",
   "metadata": {},
   "source": [
    "### Does tenure correlate with monthly charges for people without phone service"
   ]
  },
  {
   "cell_type": "code",
   "execution_count": 84,
   "id": "618fd6bd",
   "metadata": {},
   "outputs": [],
   "source": [
    "no_phone = telco[telco.has_phone == False]"
   ]
  },
  {
   "cell_type": "code",
   "execution_count": 85,
   "id": "60cbb552",
   "metadata": {},
   "outputs": [],
   "source": [
    "x = no_phone.tenure_month\n",
    "y = no_phone.monthly_charges"
   ]
  },
  {
   "cell_type": "code",
   "execution_count": 86,
   "id": "cfcae385",
   "metadata": {},
   "outputs": [
    {
     "data": {
      "text/plain": [
       "(0.5917977775067615, 1.7360392790538536e-65)"
      ]
     },
     "execution_count": 86,
     "metadata": {},
     "output_type": "execute_result"
    }
   ],
   "source": [
    "r, p = stats.pearsonr(x, y)\n",
    "r, p"
   ]
  },
  {
   "cell_type": "markdown",
   "id": "b69c2411",
   "metadata": {},
   "source": [
    "### Does tenure correlate with total charges for people without phone service"
   ]
  },
  {
   "cell_type": "code",
   "execution_count": 87,
   "id": "74709964",
   "metadata": {},
   "outputs": [],
   "source": [
    "y = no_phone.total_charges"
   ]
  },
  {
   "cell_type": "code",
   "execution_count": 88,
   "id": "59b08282",
   "metadata": {},
   "outputs": [
    {
     "data": {
      "text/plain": [
       "(0.9542614300389016, 0.0)"
      ]
     },
     "execution_count": 88,
     "metadata": {},
     "output_type": "execute_result"
    }
   ],
   "source": [
    "r, p = stats.pearsonr(x, y)\n",
    "r, p"
   ]
  },
  {
   "cell_type": "markdown",
   "id": "958141ba",
   "metadata": {},
   "source": [
    "### Controlling for internet service"
   ]
  },
  {
   "cell_type": "code",
   "execution_count": 89,
   "id": "56ad78d3",
   "metadata": {},
   "outputs": [],
   "source": [
    "has_internet = telco[telco.has_internet == True]"
   ]
  },
  {
   "cell_type": "markdown",
   "id": "b2afe16b",
   "metadata": {},
   "source": [
    "### Does tenure correlate with monthly charges for people with internet"
   ]
  },
  {
   "cell_type": "code",
   "execution_count": 90,
   "id": "93865b7f",
   "metadata": {},
   "outputs": [],
   "source": [
    "x = has_internet.tenure_month\n",
    "y = has_internet.monthly_charges"
   ]
  },
  {
   "cell_type": "code",
   "execution_count": 91,
   "id": "f0ea4aab",
   "metadata": {},
   "outputs": [
    {
     "data": {
      "text/plain": [
       "(0.3728532182671543, 2.69748010351122e-181)"
      ]
     },
     "execution_count": 91,
     "metadata": {},
     "output_type": "execute_result"
    }
   ],
   "source": [
    "r, p = stats.pearsonr(x, y)\n",
    "r, p"
   ]
  },
  {
   "cell_type": "markdown",
   "id": "b837dd7f",
   "metadata": {},
   "source": [
    "### Does tenure correlate with total charges for people with internet"
   ]
  },
  {
   "cell_type": "code",
   "execution_count": 92,
   "id": "f945ef9c",
   "metadata": {},
   "outputs": [],
   "source": [
    "y = has_internet.total_charges"
   ]
  },
  {
   "cell_type": "code",
   "execution_count": 93,
   "id": "d3056434",
   "metadata": {},
   "outputs": [
    {
     "data": {
      "text/plain": [
       "(0.932687995564361, 0.0)"
      ]
     },
     "execution_count": 93,
     "metadata": {},
     "output_type": "execute_result"
    }
   ],
   "source": [
    "r, p = stats.pearsonr(x,y)\n",
    "r, p"
   ]
  },
  {
   "cell_type": "markdown",
   "id": "670b2133",
   "metadata": {},
   "source": [
    "### Does tenure correlate with monthly charges for people without internet"
   ]
  },
  {
   "cell_type": "code",
   "execution_count": 94,
   "id": "4cd689d0",
   "metadata": {},
   "outputs": [],
   "source": [
    "without_internet = telco[telco.has_internet == False]"
   ]
  },
  {
   "cell_type": "code",
   "execution_count": 95,
   "id": "819440f7",
   "metadata": {},
   "outputs": [],
   "source": [
    "x = without_internet.tenure_month\n",
    "y = without_internet.monthly_charges"
   ]
  },
  {
   "cell_type": "code",
   "execution_count": 96,
   "id": "eb7aa271",
   "metadata": {},
   "outputs": [
    {
     "data": {
      "text/plain": [
       "(0.346384114942396, 3.8275378977119957e-44)"
      ]
     },
     "execution_count": 96,
     "metadata": {},
     "output_type": "execute_result"
    }
   ],
   "source": [
    "r, p = stats.pearsonr(x, y)\n",
    "r, p"
   ]
  },
  {
   "cell_type": "markdown",
   "id": "435d8233",
   "metadata": {},
   "source": [
    "### Does tenure correlate with total charges for people without internet"
   ]
  },
  {
   "cell_type": "code",
   "execution_count": 97,
   "id": "fd86fc9a",
   "metadata": {},
   "outputs": [],
   "source": [
    "y = without_internet.total_charges"
   ]
  },
  {
   "cell_type": "code",
   "execution_count": 98,
   "id": "fa03161f",
   "metadata": {},
   "outputs": [
    {
     "data": {
      "text/plain": [
       "(0.984290673908761, 0.0)"
      ]
     },
     "execution_count": 98,
     "metadata": {},
     "output_type": "execute_result"
    }
   ],
   "source": [
    "r, p = stats.pearsonr(x,y)\n",
    "r, p"
   ]
  },
  {
   "cell_type": "markdown",
   "id": "8aaf99e2",
   "metadata": {},
   "source": [
    "### Use the employees database."
   ]
  },
  {
   "cell_type": "code",
   "execution_count": 64,
   "id": "913fd64b",
   "metadata": {},
   "outputs": [],
   "source": [
    "from env import user, password, host\n",
    "\n",
    "employees_url = f'mysql+pymysql://{user}:{password}@{host}/employees'\n",
    "\n",
    "employees_query = \"\"\"\n",
    "SELECT employees.emp_no, IF(dept_emp_latest_date.to_date >= CURDATE(), TIMESTAMPDIFF(year, hire_date, CURDATE()), TIMESTAMPDIFF(year, hire_date, dept_emp_latest_date.to_date)) AS years_tenure, salary AS final_salary \n",
    "FROM employees JOIN dept_emp_latest_date ON dept_emp_latest_date.emp_no = employees.emp_no \n",
    "JOIN salaries ON salaries.emp_no = employees.emp_no \n",
    "WHERE salaries.to_date = dept_emp_latest_date.to_date\n",
    "\"\"\"\n"
   ]
  },
  {
   "cell_type": "code",
   "execution_count": 65,
   "id": "93cd1e78",
   "metadata": {},
   "outputs": [
    {
     "data": {
      "text/html": [
       "<div>\n",
       "<style scoped>\n",
       "    .dataframe tbody tr th:only-of-type {\n",
       "        vertical-align: middle;\n",
       "    }\n",
       "\n",
       "    .dataframe tbody tr th {\n",
       "        vertical-align: top;\n",
       "    }\n",
       "\n",
       "    .dataframe thead th {\n",
       "        text-align: right;\n",
       "    }\n",
       "</style>\n",
       "<table border=\"1\" class=\"dataframe\">\n",
       "  <thead>\n",
       "    <tr style=\"text-align: right;\">\n",
       "      <th></th>\n",
       "      <th>emp_no</th>\n",
       "      <th>years_tenure</th>\n",
       "      <th>final_salary</th>\n",
       "    </tr>\n",
       "  </thead>\n",
       "  <tbody>\n",
       "    <tr>\n",
       "      <th>0</th>\n",
       "      <td>10001</td>\n",
       "      <td>35</td>\n",
       "      <td>88958</td>\n",
       "    </tr>\n",
       "    <tr>\n",
       "      <th>1</th>\n",
       "      <td>10002</td>\n",
       "      <td>35</td>\n",
       "      <td>72527</td>\n",
       "    </tr>\n",
       "    <tr>\n",
       "      <th>2</th>\n",
       "      <td>10003</td>\n",
       "      <td>34</td>\n",
       "      <td>43311</td>\n",
       "    </tr>\n",
       "    <tr>\n",
       "      <th>3</th>\n",
       "      <td>10004</td>\n",
       "      <td>34</td>\n",
       "      <td>74057</td>\n",
       "    </tr>\n",
       "    <tr>\n",
       "      <th>4</th>\n",
       "      <td>10005</td>\n",
       "      <td>31</td>\n",
       "      <td>94692</td>\n",
       "    </tr>\n",
       "    <tr>\n",
       "      <th>...</th>\n",
       "      <td>...</td>\n",
       "      <td>...</td>\n",
       "      <td>...</td>\n",
       "    </tr>\n",
       "    <tr>\n",
       "      <th>300174</th>\n",
       "      <td>499995</td>\n",
       "      <td>28</td>\n",
       "      <td>52868</td>\n",
       "    </tr>\n",
       "    <tr>\n",
       "      <th>300175</th>\n",
       "      <td>499996</td>\n",
       "      <td>30</td>\n",
       "      <td>69501</td>\n",
       "    </tr>\n",
       "    <tr>\n",
       "      <th>300176</th>\n",
       "      <td>499997</td>\n",
       "      <td>35</td>\n",
       "      <td>83441</td>\n",
       "    </tr>\n",
       "    <tr>\n",
       "      <th>300177</th>\n",
       "      <td>499998</td>\n",
       "      <td>27</td>\n",
       "      <td>55003</td>\n",
       "    </tr>\n",
       "    <tr>\n",
       "      <th>300178</th>\n",
       "      <td>499999</td>\n",
       "      <td>23</td>\n",
       "      <td>77303</td>\n",
       "    </tr>\n",
       "  </tbody>\n",
       "</table>\n",
       "<p>300179 rows × 3 columns</p>\n",
       "</div>"
      ],
      "text/plain": [
       "        emp_no  years_tenure  final_salary\n",
       "0        10001            35         88958\n",
       "1        10002            35         72527\n",
       "2        10003            34         43311\n",
       "3        10004            34         74057\n",
       "4        10005            31         94692\n",
       "...        ...           ...           ...\n",
       "300174  499995            28         52868\n",
       "300175  499996            30         69501\n",
       "300176  499997            35         83441\n",
       "300177  499998            27         55003\n",
       "300178  499999            23         77303\n",
       "\n",
       "[300179 rows x 3 columns]"
      ]
     },
     "execution_count": 65,
     "metadata": {},
     "output_type": "execute_result"
    }
   ],
   "source": [
    "employees = pd.read_sql(employees_query, employees_url)\n",
    "employees"
   ]
  },
  {
   "cell_type": "markdown",
   "id": "52d8f77f",
   "metadata": {},
   "source": [
    "### Is there a relationship between how long an employee has been with the company and their salary?"
   ]
  },
  {
   "cell_type": "code",
   "execution_count": 66,
   "id": "23b61083",
   "metadata": {},
   "outputs": [],
   "source": [
    "x = employees.years_tenure\n",
    "y = employees.final_salary"
   ]
  },
  {
   "cell_type": "code",
   "execution_count": 67,
   "id": "bec60c24",
   "metadata": {},
   "outputs": [
    {
     "data": {
      "text/plain": [
       "(0.32481783990896573, 0.0)"
      ]
     },
     "execution_count": 67,
     "metadata": {},
     "output_type": "execute_result"
    }
   ],
   "source": [
    "r, p = stats.pearsonr(x, y)\n",
    "r, p"
   ]
  },
  {
   "cell_type": "markdown",
   "id": "56f53633",
   "metadata": {},
   "source": [
    "### Is there a relationship between how long an employee has been with the company and the number of titles they have had?\n"
   ]
  },
  {
   "cell_type": "code",
   "execution_count": 72,
   "id": "b7c32e87",
   "metadata": {},
   "outputs": [
    {
     "data": {
      "text/html": [
       "<div>\n",
       "<style scoped>\n",
       "    .dataframe tbody tr th:only-of-type {\n",
       "        vertical-align: middle;\n",
       "    }\n",
       "\n",
       "    .dataframe tbody tr th {\n",
       "        vertical-align: top;\n",
       "    }\n",
       "\n",
       "    .dataframe thead th {\n",
       "        text-align: right;\n",
       "    }\n",
       "</style>\n",
       "<table border=\"1\" class=\"dataframe\">\n",
       "  <thead>\n",
       "    <tr style=\"text-align: right;\">\n",
       "      <th></th>\n",
       "      <th>emp_no</th>\n",
       "      <th>num_titles</th>\n",
       "      <th>years_tenure</th>\n",
       "    </tr>\n",
       "  </thead>\n",
       "  <tbody>\n",
       "    <tr>\n",
       "      <th>0</th>\n",
       "      <td>10001</td>\n",
       "      <td>1</td>\n",
       "      <td>35</td>\n",
       "    </tr>\n",
       "    <tr>\n",
       "      <th>1</th>\n",
       "      <td>10002</td>\n",
       "      <td>1</td>\n",
       "      <td>35</td>\n",
       "    </tr>\n",
       "    <tr>\n",
       "      <th>2</th>\n",
       "      <td>10003</td>\n",
       "      <td>1</td>\n",
       "      <td>34</td>\n",
       "    </tr>\n",
       "    <tr>\n",
       "      <th>3</th>\n",
       "      <td>10004</td>\n",
       "      <td>2</td>\n",
       "      <td>34</td>\n",
       "    </tr>\n",
       "    <tr>\n",
       "      <th>4</th>\n",
       "      <td>10005</td>\n",
       "      <td>2</td>\n",
       "      <td>31</td>\n",
       "    </tr>\n",
       "    <tr>\n",
       "      <th>...</th>\n",
       "      <td>...</td>\n",
       "      <td>...</td>\n",
       "      <td>...</td>\n",
       "    </tr>\n",
       "    <tr>\n",
       "      <th>300019</th>\n",
       "      <td>499995</td>\n",
       "      <td>1</td>\n",
       "      <td>28</td>\n",
       "    </tr>\n",
       "    <tr>\n",
       "      <th>300020</th>\n",
       "      <td>499996</td>\n",
       "      <td>2</td>\n",
       "      <td>30</td>\n",
       "    </tr>\n",
       "    <tr>\n",
       "      <th>300021</th>\n",
       "      <td>499997</td>\n",
       "      <td>2</td>\n",
       "      <td>35</td>\n",
       "    </tr>\n",
       "    <tr>\n",
       "      <th>300022</th>\n",
       "      <td>499998</td>\n",
       "      <td>2</td>\n",
       "      <td>27</td>\n",
       "    </tr>\n",
       "    <tr>\n",
       "      <th>300023</th>\n",
       "      <td>499999</td>\n",
       "      <td>1</td>\n",
       "      <td>23</td>\n",
       "    </tr>\n",
       "  </tbody>\n",
       "</table>\n",
       "<p>300024 rows × 3 columns</p>\n",
       "</div>"
      ],
      "text/plain": [
       "        emp_no  num_titles  years_tenure\n",
       "0        10001           1            35\n",
       "1        10002           1            35\n",
       "2        10003           1            34\n",
       "3        10004           2            34\n",
       "4        10005           2            31\n",
       "...        ...         ...           ...\n",
       "300019  499995           1            28\n",
       "300020  499996           2            30\n",
       "300021  499997           2            35\n",
       "300022  499998           2            27\n",
       "300023  499999           1            23\n",
       "\n",
       "[300024 rows x 3 columns]"
      ]
     },
     "execution_count": 72,
     "metadata": {},
     "output_type": "execute_result"
    }
   ],
   "source": [
    "employees_query = \"\"\"\n",
    "SELECT titles.emp_no, COUNT(DISTINCT(title)) AS num_titles, IF(dept_emp_latest_date.to_date >= CURDATE(), TIMESTAMPDIFF(year, hire_date, CURDATE()), TIMESTAMPDIFF(year, hire_date, dept_emp_latest_date.to_date)) AS years_tenure\n",
    "FROM titles\n",
    "JOIN dept_emp_latest_date ON dept_emp_latest_date.emp_no = titles.emp_no\n",
    "JOIN employees ON employees.emp_no = titles.emp_no\n",
    "GROUP BY emp_no;\n",
    "\"\"\"\n",
    "employees_titles = pd.read_sql(employees_query, employees_url)\n",
    "employees_titles"
   ]
  },
  {
   "cell_type": "code",
   "execution_count": 73,
   "id": "76da8dff",
   "metadata": {},
   "outputs": [],
   "source": [
    "x = employees_titles.years_tenure\n",
    "y = employees_titles.num_titles"
   ]
  },
  {
   "cell_type": "code",
   "execution_count": 74,
   "id": "dc6b3f85",
   "metadata": {},
   "outputs": [
    {
     "data": {
      "text/plain": [
       "(0.3510678732106849, 0.0)"
      ]
     },
     "execution_count": 74,
     "metadata": {},
     "output_type": "execute_result"
    }
   ],
   "source": [
    "r, p = stats.pearsonr(x, y)\n",
    "r, p"
   ]
  },
  {
   "cell_type": "markdown",
   "id": "7f9a1199",
   "metadata": {},
   "source": [
    "### Use the sleepstudy data. Is there a relationship between days and reaction time?"
   ]
  },
  {
   "cell_type": "code",
   "execution_count": 75,
   "id": "fe64ddd1",
   "metadata": {},
   "outputs": [
    {
     "data": {
      "text/html": [
       "<div>\n",
       "<style scoped>\n",
       "    .dataframe tbody tr th:only-of-type {\n",
       "        vertical-align: middle;\n",
       "    }\n",
       "\n",
       "    .dataframe tbody tr th {\n",
       "        vertical-align: top;\n",
       "    }\n",
       "\n",
       "    .dataframe thead th {\n",
       "        text-align: right;\n",
       "    }\n",
       "</style>\n",
       "<table border=\"1\" class=\"dataframe\">\n",
       "  <thead>\n",
       "    <tr style=\"text-align: right;\">\n",
       "      <th></th>\n",
       "      <th>Reaction</th>\n",
       "      <th>Days</th>\n",
       "      <th>Subject</th>\n",
       "    </tr>\n",
       "  </thead>\n",
       "  <tbody>\n",
       "    <tr>\n",
       "      <th>1</th>\n",
       "      <td>249.5600</td>\n",
       "      <td>0</td>\n",
       "      <td>308</td>\n",
       "    </tr>\n",
       "    <tr>\n",
       "      <th>2</th>\n",
       "      <td>258.7047</td>\n",
       "      <td>1</td>\n",
       "      <td>308</td>\n",
       "    </tr>\n",
       "    <tr>\n",
       "      <th>3</th>\n",
       "      <td>250.8006</td>\n",
       "      <td>2</td>\n",
       "      <td>308</td>\n",
       "    </tr>\n",
       "    <tr>\n",
       "      <th>4</th>\n",
       "      <td>321.4398</td>\n",
       "      <td>3</td>\n",
       "      <td>308</td>\n",
       "    </tr>\n",
       "    <tr>\n",
       "      <th>5</th>\n",
       "      <td>356.8519</td>\n",
       "      <td>4</td>\n",
       "      <td>308</td>\n",
       "    </tr>\n",
       "    <tr>\n",
       "      <th>...</th>\n",
       "      <td>...</td>\n",
       "      <td>...</td>\n",
       "      <td>...</td>\n",
       "    </tr>\n",
       "    <tr>\n",
       "      <th>176</th>\n",
       "      <td>329.6076</td>\n",
       "      <td>5</td>\n",
       "      <td>372</td>\n",
       "    </tr>\n",
       "    <tr>\n",
       "      <th>177</th>\n",
       "      <td>334.4818</td>\n",
       "      <td>6</td>\n",
       "      <td>372</td>\n",
       "    </tr>\n",
       "    <tr>\n",
       "      <th>178</th>\n",
       "      <td>343.2199</td>\n",
       "      <td>7</td>\n",
       "      <td>372</td>\n",
       "    </tr>\n",
       "    <tr>\n",
       "      <th>179</th>\n",
       "      <td>369.1417</td>\n",
       "      <td>8</td>\n",
       "      <td>372</td>\n",
       "    </tr>\n",
       "    <tr>\n",
       "      <th>180</th>\n",
       "      <td>364.1236</td>\n",
       "      <td>9</td>\n",
       "      <td>372</td>\n",
       "    </tr>\n",
       "  </tbody>\n",
       "</table>\n",
       "<p>180 rows × 3 columns</p>\n",
       "</div>"
      ],
      "text/plain": [
       "     Reaction  Days  Subject\n",
       "1    249.5600     0      308\n",
       "2    258.7047     1      308\n",
       "3    250.8006     2      308\n",
       "4    321.4398     3      308\n",
       "5    356.8519     4      308\n",
       "..        ...   ...      ...\n",
       "176  329.6076     5      372\n",
       "177  334.4818     6      372\n",
       "178  343.2199     7      372\n",
       "179  369.1417     8      372\n",
       "180  364.1236     9      372\n",
       "\n",
       "[180 rows x 3 columns]"
      ]
     },
     "execution_count": 75,
     "metadata": {},
     "output_type": "execute_result"
    }
   ],
   "source": [
    "sleepstudy = data('sleepstudy')\n",
    "sleepstudy"
   ]
  },
  {
   "cell_type": "code",
   "execution_count": 76,
   "id": "119166a5",
   "metadata": {},
   "outputs": [],
   "source": [
    "x = sleepstudy.Days\n",
    "y = sleepstudy.Reaction"
   ]
  },
  {
   "cell_type": "code",
   "execution_count": 77,
   "id": "3e87e5eb",
   "metadata": {},
   "outputs": [
    {
     "data": {
      "text/plain": [
       "(0.5352302262650253, 9.894096322214812e-15)"
      ]
     },
     "execution_count": 77,
     "metadata": {},
     "output_type": "execute_result"
    }
   ],
   "source": [
    "r, p = stats.pearsonr(x, y)\n",
    "r, p"
   ]
  },
  {
   "cell_type": "code",
   "execution_count": null,
   "id": "e860233a",
   "metadata": {},
   "outputs": [],
   "source": []
  }
 ],
 "metadata": {
  "kernelspec": {
   "display_name": "Python 3",
   "language": "python",
   "name": "python3"
  },
  "language_info": {
   "codemirror_mode": {
    "name": "ipython",
    "version": 3
   },
   "file_extension": ".py",
   "mimetype": "text/x-python",
   "name": "python",
   "nbconvert_exporter": "python",
   "pygments_lexer": "ipython3",
   "version": "3.9.1"
  }
 },
 "nbformat": 4,
 "nbformat_minor": 5
}
