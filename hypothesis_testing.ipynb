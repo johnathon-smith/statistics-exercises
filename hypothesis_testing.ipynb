{
 "cells": [
  {
   "cell_type": "markdown",
   "id": "6d344d05",
   "metadata": {},
   "source": [
    "### For each of the following questions, formulate a null and alternative hypothesis (be as specific as you can be), then give an example of what a true positive, true negative, type I and type II errors would look like. Note that some of the questions are intentionally phrased in a vague way. It is your job to reword these as more precise questions that could be tested."
   ]
  },
  {
   "cell_type": "markdown",
   "id": "d1a14247",
   "metadata": {},
   "source": [
    "### Has the network latency gone up since we switched internet service providers?"
   ]
  },
  {
   "cell_type": "markdown",
   "id": "3c1eac2c",
   "metadata": {},
   "source": [
    "$H_0$: Network latency has stayed the same or decreased since we switched internet service providers"
   ]
  },
  {
   "cell_type": "markdown",
   "id": "12e1d7e6",
   "metadata": {},
   "source": [
    "$H_a$: Network latency has increased since we switched internet service providers."
   ]
  },
  {
   "cell_type": "markdown",
   "id": "e84c7a75",
   "metadata": {},
   "source": [
    "True Positive: Rejecting the null hypothesis when the network latency did actually increase."
   ]
  },
  {
   "cell_type": "markdown",
   "id": "2703c460",
   "metadata": {},
   "source": [
    "True Negative: Accepting the null hypothesis when the network latency actually stayed the same or decreased."
   ]
  },
  {
   "cell_type": "markdown",
   "id": "de0ec77a",
   "metadata": {},
   "source": [
    "Type 1 Error: Rejecting the null hypothesis when the network latency actually stayed the same or decreased."
   ]
  },
  {
   "cell_type": "markdown",
   "id": "aa46d143",
   "metadata": {},
   "source": [
    "Type 2 Error: Accepting the null hypothesis when the network latency actually increased."
   ]
  },
  {
   "cell_type": "markdown",
   "id": "e6bf23f8",
   "metadata": {},
   "source": [
    "### Is the website redesign any good?"
   ]
  },
  {
   "cell_type": "markdown",
   "id": "0dfb95d3",
   "metadata": {},
   "source": [
    "$H_0$: Website performance is the same after the redesign."
   ]
  },
  {
   "cell_type": "markdown",
   "id": "bae4b9d2",
   "metadata": {},
   "source": [
    "$H_a$: Website performance is not the same after the redesign."
   ]
  },
  {
   "cell_type": "markdown",
   "id": "1c7042a0",
   "metadata": {},
   "source": [
    "True Positive: Accepting the null hypothesis when website performance actually is the same after the redesign."
   ]
  },
  {
   "cell_type": "markdown",
   "id": "a32498ce",
   "metadata": {},
   "source": [
    "True Negative: Rejecting the null hypothesis when the website performance actually is different after the redesign."
   ]
  },
  {
   "cell_type": "markdown",
   "id": "36ee211b",
   "metadata": {},
   "source": [
    "Type 1 Error: Rejecting the null hypothesis when website performance did not actually change after the redesign."
   ]
  },
  {
   "cell_type": "markdown",
   "id": "5c13d804",
   "metadata": {},
   "source": [
    "Type 2 Error: Accepting the null hypothesis when the website performance really did change after the redesign."
   ]
  },
  {
   "cell_type": "markdown",
   "id": "b790f9b8",
   "metadata": {},
   "source": [
    "### Is our television ad driving more sales?\n"
   ]
  },
  {
   "cell_type": "markdown",
   "id": "a4af27e9",
   "metadata": {},
   "source": [
    "$H_0$: Our television ad is not increasing sales."
   ]
  },
  {
   "cell_type": "markdown",
   "id": "5458370b",
   "metadata": {},
   "source": [
    "$H_a$: Our television ad is increasing sales."
   ]
  },
  {
   "cell_type": "markdown",
   "id": "649c01b3",
   "metadata": {},
   "source": [
    "True Positive: Accepting the null hypothesis when the television ad is not increasing sales."
   ]
  },
  {
   "cell_type": "markdown",
   "id": "77c162c7",
   "metadata": {},
   "source": [
    "True Negative: Rejecting the null hypothesis when the television ad is increasing sales."
   ]
  },
  {
   "cell_type": "markdown",
   "id": "68b914d1",
   "metadata": {},
   "source": [
    "Type 1 Error: Rejecting the null hypothesis when the television ad is not increasing sales."
   ]
  },
  {
   "cell_type": "markdown",
   "id": "09cecf29",
   "metadata": {},
   "source": [
    "Type 2 Error: Accepting the null hypothesis when the television ad is increasing sales."
   ]
  },
  {
   "cell_type": "code",
   "execution_count": null,
   "id": "2e8104e0",
   "metadata": {},
   "outputs": [],
   "source": []
  }
 ],
 "metadata": {
  "kernelspec": {
   "display_name": "Python 3",
   "language": "python",
   "name": "python3"
  },
  "language_info": {
   "codemirror_mode": {
    "name": "ipython",
    "version": 3
   },
   "file_extension": ".py",
   "mimetype": "text/x-python",
   "name": "python",
   "nbconvert_exporter": "python",
   "pygments_lexer": "ipython3",
   "version": "3.9.1"
  }
 },
 "nbformat": 4,
 "nbformat_minor": 5
}
