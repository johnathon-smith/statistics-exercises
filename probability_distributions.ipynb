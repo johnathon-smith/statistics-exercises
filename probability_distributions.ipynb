{
 "cells": [
  {
   "cell_type": "code",
   "execution_count": 1,
   "id": "8c27861c",
   "metadata": {},
   "outputs": [],
   "source": [
    "import numpy as np\n",
    "import pandas as pd\n",
    "import seaborn as sns\n",
    "import matplotlib.pyplot as plt\n",
    "from scipy import stats"
   ]
  },
  {
   "cell_type": "markdown",
   "id": "932b43c5",
   "metadata": {},
   "source": [
    "### A bank found that the average number of cars waiting during the noon hour at a drive-up window follows a Poisson distribution with a mean of 2 cars. Make a chart of this distribution and answer these questions concerning the probability of cars waiting at the drive-up window."
   ]
  },
  {
   "cell_type": "code",
   "execution_count": 53,
   "id": "a997a901",
   "metadata": {},
   "outputs": [
    {
     "data": {
      "text/plain": [
       "array([2, 6, 0, ..., 1, 2, 1])"
      ]
     },
     "execution_count": 53,
     "metadata": {},
     "output_type": "execute_result"
    }
   ],
   "source": [
    "n = 100_000\n",
    "x = stats.poisson(2).rvs(n)\n",
    "x"
   ]
  },
  {
   "cell_type": "code",
   "execution_count": 54,
   "id": "15a85b3c",
   "metadata": {},
   "outputs": [
    {
     "data": {
      "image/png": "[encoded data removed]",
      "text/plain": [
       "<Figure size 432x288 with 1 Axes>"
      ]
     },
     "metadata": {
      "needs_background": "light"
     },
     "output_type": "display_data"
    }
   ],
   "source": [
    "#Plot the chart\n",
    "plt.hist(x, align='left', edgecolor='black', width=1)\n",
    "plt.show()"
   ]
  },
  {
   "cell_type": "markdown",
   "id": "0afd784b",
   "metadata": {},
   "source": [
    "### What is the probability that no cars drive up in the noon hour?"
   ]
  },
  {
   "cell_type": "code",
   "execution_count": 3,
   "id": "1bed4706",
   "metadata": {},
   "outputs": [
    {
     "data": {
      "text/plain": [
       "0.1353352832366127"
      ]
     },
     "execution_count": 3,
     "metadata": {},
     "output_type": "execute_result"
    }
   ],
   "source": [
    "#Using a distribution model\n",
    "stats.poisson(2).pmf(0)"
   ]
  },
  {
   "cell_type": "code",
   "execution_count": 55,
   "id": "92977c2d",
   "metadata": {},
   "outputs": [
    {
     "data": {
      "text/plain": [
       "0.13712"
      ]
     },
     "execution_count": 55,
     "metadata": {},
     "output_type": "execute_result"
    }
   ],
   "source": [
    "#Using a simulation\n",
    "(x == 0).mean()"
   ]
  },
  {
   "cell_type": "markdown",
   "id": "3d5c728a",
   "metadata": {},
   "source": [
    "### What is the probability that 3 or more cars come through the drive through?"
   ]
  },
  {
   "cell_type": "code",
   "execution_count": 4,
   "id": "08c2f1c3",
   "metadata": {},
   "outputs": [
    {
     "data": {
      "text/plain": [
       "0.32332358381693654"
      ]
     },
     "execution_count": 4,
     "metadata": {},
     "output_type": "execute_result"
    }
   ],
   "source": [
    "stats.poisson(2).sf(2)"
   ]
  },
  {
   "cell_type": "code",
   "execution_count": 56,
   "id": "2796cbc1",
   "metadata": {},
   "outputs": [
    {
     "data": {
      "text/plain": [
       "0.32091"
      ]
     },
     "execution_count": 56,
     "metadata": {},
     "output_type": "execute_result"
    }
   ],
   "source": [
    "#Using a simulation\n",
    "(x >= 3).mean()"
   ]
  },
  {
   "cell_type": "markdown",
   "id": "4776f09c",
   "metadata": {},
   "source": [
    "### How likely is it that the drive through gets at least 1 car?"
   ]
  },
  {
   "cell_type": "code",
   "execution_count": 5,
   "id": "268e2398",
   "metadata": {},
   "outputs": [
    {
     "data": {
      "text/plain": [
       "0.8646647167633873"
      ]
     },
     "execution_count": 5,
     "metadata": {},
     "output_type": "execute_result"
    }
   ],
   "source": [
    "stats.poisson(2).sf(0)"
   ]
  },
  {
   "cell_type": "code",
   "execution_count": 57,
   "id": "01183e31",
   "metadata": {},
   "outputs": [
    {
     "data": {
      "text/plain": [
       "0.86288"
      ]
     },
     "execution_count": 57,
     "metadata": {},
     "output_type": "execute_result"
    }
   ],
   "source": [
    "#Using a simulation\n",
    "(x >= 1).mean()"
   ]
  },
  {
   "cell_type": "markdown",
   "id": "a85f71d4",
   "metadata": {},
   "source": [
    "### Grades of State University graduates are normally distributed with a mean of 3.0 and a standard deviation of .3. Calculate the following:"
   ]
  },
  {
   "cell_type": "markdown",
   "id": "f4f62de6",
   "metadata": {},
   "source": [
    "### What grade point average is required to be in the top 5% of the graduating class?"
   ]
  },
  {
   "cell_type": "code",
   "execution_count": 64,
   "id": "9ad9bde4",
   "metadata": {},
   "outputs": [],
   "source": [
    "#Create a sample\n",
    "x = stats.norm(3,.3).rvs(n)"
   ]
  },
  {
   "cell_type": "code",
   "execution_count": 69,
   "id": "65258c71",
   "metadata": {},
   "outputs": [
    {
     "data": {
      "text/plain": [
       "3.4934560880854417"
      ]
     },
     "execution_count": 69,
     "metadata": {},
     "output_type": "execute_result"
    }
   ],
   "source": [
    "stats.norm(3, .3).ppf(.95)"
   ]
  },
  {
   "cell_type": "code",
   "execution_count": 70,
   "id": "0f5c4259",
   "metadata": {},
   "outputs": [
    {
     "data": {
      "text/plain": [
       "3.4934560880854417"
      ]
     },
     "execution_count": 70,
     "metadata": {},
     "output_type": "execute_result"
    }
   ],
   "source": [
    "stats.norm(3, .3).isf(.05)"
   ]
  },
  {
   "cell_type": "code",
   "execution_count": 71,
   "id": "70ac4331",
   "metadata": {},
   "outputs": [
    {
     "data": {
      "text/plain": [
       "0    3.497248\n",
       "Name: 0.95, dtype: float64"
      ]
     },
     "execution_count": 71,
     "metadata": {},
     "output_type": "execute_result"
    }
   ],
   "source": [
    "#Using a simulation\n",
    "pd.DataFrame(x).quantile(.95)"
   ]
  },
  {
   "cell_type": "markdown",
   "id": "6382157b",
   "metadata": {},
   "source": [
    "### What GPA constitutes the bottom 15% of the class?"
   ]
  },
  {
   "cell_type": "code",
   "execution_count": 8,
   "id": "82656ca7",
   "metadata": {},
   "outputs": [
    {
     "data": {
      "text/plain": [
       "2.689069983151863"
      ]
     },
     "execution_count": 8,
     "metadata": {},
     "output_type": "execute_result"
    }
   ],
   "source": [
    "stats.norm(3, .3).ppf(.15)"
   ]
  },
  {
   "cell_type": "code",
   "execution_count": 72,
   "id": "761e9f02",
   "metadata": {},
   "outputs": [
    {
     "data": {
      "text/plain": [
       "0    2.688381\n",
       "Name: 0.15, dtype: float64"
      ]
     },
     "execution_count": 72,
     "metadata": {},
     "output_type": "execute_result"
    }
   ],
   "source": [
    "#Using a simulation\n",
    "pd.DataFrame(x).quantile(.15)"
   ]
  },
  {
   "cell_type": "markdown",
   "id": "598efe29",
   "metadata": {},
   "source": [
    "### An eccentric alumnus left scholarship money for students in the third decile from the bottom of their class. Determine the range of the third decile. Would a student with a 2.8 grade point average qualify for this scholarship?"
   ]
  },
  {
   "cell_type": "code",
   "execution_count": 42,
   "id": "9cbcf841",
   "metadata": {},
   "outputs": [
    {
     "data": {
      "text/plain": [
       "2.7475136299281258"
      ]
     },
     "execution_count": 42,
     "metadata": {},
     "output_type": "execute_result"
    }
   ],
   "source": [
    "#Find the range of the third decile (Bottom 20% - 30%)\n",
    "stats.norm(3,.3).ppf(.2)"
   ]
  },
  {
   "cell_type": "code",
   "execution_count": 43,
   "id": "46e6713a",
   "metadata": {},
   "outputs": [
    {
     "data": {
      "text/plain": [
       "2.842679846187588"
      ]
     },
     "execution_count": 43,
     "metadata": {},
     "output_type": "execute_result"
    }
   ],
   "source": [
    "stats.norm(3, .3).ppf(.3)"
   ]
  },
  {
   "cell_type": "code",
   "execution_count": 73,
   "id": "5ff8d876",
   "metadata": {},
   "outputs": [
    {
     "data": {
      "text/plain": [
       "0    2.747828\n",
       "Name: 0.2, dtype: float64"
      ]
     },
     "execution_count": 73,
     "metadata": {},
     "output_type": "execute_result"
    }
   ],
   "source": [
    "#Using a simulation\n",
    "pd.DataFrame(x).quantile(.20)"
   ]
  },
  {
   "cell_type": "code",
   "execution_count": 74,
   "id": "18a8a625",
   "metadata": {},
   "outputs": [
    {
     "data": {
      "text/plain": [
       "0    2.842439\n",
       "Name: 0.3, dtype: float64"
      ]
     },
     "execution_count": 74,
     "metadata": {},
     "output_type": "execute_result"
    }
   ],
   "source": [
    "#Using a simulation\n",
    "pd.DataFrame(x).quantile(.30)"
   ]
  },
  {
   "cell_type": "markdown",
   "id": "68e67aa8",
   "metadata": {},
   "source": [
    "#### Yes, a student with a 2.8 GPA would qualify for the scholarhsip"
   ]
  },
  {
   "cell_type": "markdown",
   "id": "00ce303b",
   "metadata": {},
   "source": [
    "### If I have a GPA of 3.5, what percentile am I in?"
   ]
  },
  {
   "cell_type": "code",
   "execution_count": 10,
   "id": "afae1319",
   "metadata": {},
   "outputs": [
    {
     "data": {
      "text/plain": [
       "0.9522096477271853"
      ]
     },
     "execution_count": 10,
     "metadata": {},
     "output_type": "execute_result"
    }
   ],
   "source": [
    "stats.norm(3, .3).cdf(3.5)"
   ]
  },
  {
   "cell_type": "code",
   "execution_count": 75,
   "id": "f48119c2",
   "metadata": {},
   "outputs": [
    {
     "data": {
      "text/plain": [
       "0.95092"
      ]
     },
     "execution_count": 75,
     "metadata": {},
     "output_type": "execute_result"
    }
   ],
   "source": [
    "#Using a simulation\n",
    "(x <= 3.5).mean()"
   ]
  },
  {
   "cell_type": "markdown",
   "id": "ba1fc2c9",
   "metadata": {},
   "source": [
    "#### You would be in the 95th percentile"
   ]
  },
  {
   "cell_type": "markdown",
   "id": "ecad791b",
   "metadata": {},
   "source": [
    "### A marketing website has an average click-through rate of 2%. One day they observe 4326 visitors and 97 click-throughs. How likely is it that this many people or more click through?"
   ]
  },
  {
   "cell_type": "code",
   "execution_count": 77,
   "id": "e4a00745",
   "metadata": {},
   "outputs": [],
   "source": [
    "#Create a sample\n",
    "x = stats.binom(4326, .02).rvs(n)"
   ]
  },
  {
   "cell_type": "code",
   "execution_count": 11,
   "id": "5b169b65",
   "metadata": {},
   "outputs": [
    {
     "data": {
      "text/plain": [
       "0.1397582363130086"
      ]
     },
     "execution_count": 11,
     "metadata": {},
     "output_type": "execute_result"
    }
   ],
   "source": [
    "stats.binom(4326, .02).sf(96)"
   ]
  },
  {
   "cell_type": "code",
   "execution_count": 78,
   "id": "f9b258b7",
   "metadata": {},
   "outputs": [
    {
     "data": {
      "text/plain": [
       "0.13895"
      ]
     },
     "execution_count": 78,
     "metadata": {},
     "output_type": "execute_result"
    }
   ],
   "source": [
    "#Using a simulation\n",
    "(x >= 97).mean()"
   ]
  },
  {
   "cell_type": "markdown",
   "id": "c3c52cc2",
   "metadata": {},
   "source": [
    "### You are working on some statistics homework consisting of 100 questions where all of the answers are a probability rounded to the hundreths place. Looking to save time, you put down random probabilities as the answer to each question."
   ]
  },
  {
   "cell_type": "markdown",
   "id": "a3784354",
   "metadata": {},
   "source": [
    "### What is the probability that at least one of your first 60 answers is correct?"
   ]
  },
  {
   "cell_type": "code",
   "execution_count": 85,
   "id": "2e2293c2",
   "metadata": {},
   "outputs": [],
   "source": [
    "#Create a sample\n",
    "x = stats.binom(60, .01).rvs(n)"
   ]
  },
  {
   "cell_type": "code",
   "execution_count": 83,
   "id": "c49a4733",
   "metadata": {},
   "outputs": [
    {
     "data": {
      "text/plain": [
       "0.4528433576092388"
      ]
     },
     "execution_count": 83,
     "metadata": {},
     "output_type": "execute_result"
    }
   ],
   "source": [
    "stats.binom(60, .01).sf(0)"
   ]
  },
  {
   "cell_type": "code",
   "execution_count": 87,
   "id": "a8177128",
   "metadata": {},
   "outputs": [
    {
     "data": {
      "text/plain": [
       "0.45474"
      ]
     },
     "execution_count": 87,
     "metadata": {},
     "output_type": "execute_result"
    }
   ],
   "source": [
    "#Using a simulation\n",
    "(x >= 1).mean()"
   ]
  },
  {
   "cell_type": "markdown",
   "id": "d936437d",
   "metadata": {},
   "source": [
    "### The codeup staff tends to get upset when the student break area is not cleaned up. Suppose that there's a 3% chance that any one student cleans the break area when they visit it, and, on any given day, about 90% of the 3 active cohorts of 22 students visit the break area. How likely is it that the break area gets cleaned up each day? How likely is it that it goes two days without getting cleaned up? All week?"
   ]
  },
  {
   "cell_type": "code",
   "execution_count": 91,
   "id": "2a043f71",
   "metadata": {},
   "outputs": [],
   "source": [
    "#Create a sample\n",
    "x = stats.binom(60, .03).rvs(n)"
   ]
  },
  {
   "cell_type": "code",
   "execution_count": 16,
   "id": "1200374d",
   "metadata": {},
   "outputs": [
    {
     "data": {
      "text/plain": [
       "0.8342199288437355"
      ]
     },
     "execution_count": 16,
     "metadata": {},
     "output_type": "execute_result"
    }
   ],
   "source": [
    "#Chance it gets cleaned at least once each day\n",
    "stats.binom((.9 * 66), .03).sf(0)"
   ]
  },
  {
   "cell_type": "code",
   "execution_count": 92,
   "id": "307ef927",
   "metadata": {},
   "outputs": [
    {
     "data": {
      "text/plain": [
       "0.83751"
      ]
     },
     "execution_count": 92,
     "metadata": {},
     "output_type": "execute_result"
    }
   ],
   "source": [
    "#Using a simulation\n",
    "(x >= 1).mean()"
   ]
  },
  {
   "cell_type": "code",
   "execution_count": 19,
   "id": "ff5470e3",
   "metadata": {},
   "outputs": [
    {
     "data": {
      "text/plain": [
       "0.02748303199257611"
      ]
     },
     "execution_count": 19,
     "metadata": {},
     "output_type": "execute_result"
    }
   ],
   "source": [
    "#Chance that it goes 2 days without getting cleaned up\n",
    "stats.binom(2, stats.binom((.9 * 66), .03).sf(0)).pmf(0)"
   ]
  },
  {
   "cell_type": "code",
   "execution_count": 93,
   "id": "3002b37b",
   "metadata": {},
   "outputs": [
    {
     "data": {
      "text/plain": [
       "0.02638"
      ]
     },
     "execution_count": 93,
     "metadata": {},
     "output_type": "execute_result"
    }
   ],
   "source": [
    "#Using a simulation. Will have to create a new sample\n",
    "y = stats.binom(2, (x>=1).mean()).rvs(n)\n",
    "(y == 0).mean()"
   ]
  },
  {
   "cell_type": "code",
   "execution_count": 20,
   "id": "01599c6a",
   "metadata": {},
   "outputs": [
    {
     "data": {
      "text/plain": [
       "0.0001252165138809122"
      ]
     },
     "execution_count": 20,
     "metadata": {},
     "output_type": "execute_result"
    }
   ],
   "source": [
    "#Chance that it goes 5 days without getting cleaned up\n",
    "stats.binom(5, stats.binom((.9 * 66), .03).sf(0)).pmf(0)"
   ]
  },
  {
   "cell_type": "code",
   "execution_count": 94,
   "id": "052a6be3",
   "metadata": {},
   "outputs": [
    {
     "data": {
      "text/plain": [
       "6e-05"
      ]
     },
     "execution_count": 94,
     "metadata": {},
     "output_type": "execute_result"
    }
   ],
   "source": [
    "#Using a simulation\n",
    "y = stats.binom(5, (x>=1).mean()).rvs(n)\n",
    "(y == 0).mean()"
   ]
  },
  {
   "cell_type": "markdown",
   "id": "294db208",
   "metadata": {},
   "source": [
    "### You want to get lunch at La Panaderia, but notice that the line is usually very long at lunchtime. After several weeks of careful observation, you notice that the average number of people in line when your lunch break starts is normally distributed with a mean of 15 and standard deviation of 3. If it takes 2 minutes for each person to order, and 10 minutes from ordering to getting your food, what is the likelihood that you have at least 15 minutes left to eat your food before you have to go back to class? Assume you have one hour for lunch, and ignore travel time to and from La Panaderia."
   ]
  },
  {
   "cell_type": "code",
   "execution_count": 96,
   "id": "8e3013e3",
   "metadata": {},
   "outputs": [],
   "source": [
    "#Create a sample\n",
    "x = stats.norm(15,3).rvs(n)"
   ]
  },
  {
   "cell_type": "code",
   "execution_count": 22,
   "id": "72c7a862",
   "metadata": {},
   "outputs": [
    {
     "data": {
      "text/plain": [
       "0.6305586598182363"
      ]
     },
     "execution_count": 22,
     "metadata": {},
     "output_type": "execute_result"
    }
   ],
   "source": [
    "#Since we need 15 minutes to eat, we must have our food by minute 45\n",
    "#Since it takes 10 minutes to get our food, we must order by minute 35\n",
    "#Since each person takes 2 minutes to order, there can only be 16 other people\n",
    "stats.norm(15,3).cdf(16)"
   ]
  },
  {
   "cell_type": "code",
   "execution_count": 97,
   "id": "8c467c70",
   "metadata": {},
   "outputs": [
    {
     "data": {
      "text/plain": [
       "0.62979"
      ]
     },
     "execution_count": 97,
     "metadata": {},
     "output_type": "execute_result"
    }
   ],
   "source": [
    "#Using a simulation\n",
    "(x <= 16).mean()"
   ]
  },
  {
   "cell_type": "markdown",
   "id": "52921a05",
   "metadata": {},
   "source": [
    "### Connect to the employees database and find the average salary of current employees, along with the standard deviation. For the following questions, calculate the answer based on modeling the employees salaries with a normal distribution defined by the calculated mean and standard deviation then compare this answer to the actual values present in the salaries dataset."
   ]
  },
  {
   "cell_type": "code",
   "execution_count": 23,
   "id": "10779139",
   "metadata": {},
   "outputs": [],
   "source": [
    "#import the SQL database info from the env.py file\n",
    "from env import host, user, password"
   ]
  },
  {
   "cell_type": "code",
   "execution_count": 25,
   "id": "41e8ad1f",
   "metadata": {},
   "outputs": [
    {
     "data": {
      "text/html": [
       "<div>\n",
       "<style scoped>\n",
       "    .dataframe tbody tr th:only-of-type {\n",
       "        vertical-align: middle;\n",
       "    }\n",
       "\n",
       "    .dataframe tbody tr th {\n",
       "        vertical-align: top;\n",
       "    }\n",
       "\n",
       "    .dataframe thead th {\n",
       "        text-align: right;\n",
       "    }\n",
       "</style>\n",
       "<table border=\"1\" class=\"dataframe\">\n",
       "  <thead>\n",
       "    <tr style=\"text-align: right;\">\n",
       "      <th></th>\n",
       "      <th>emp_no</th>\n",
       "      <th>salary</th>\n",
       "      <th>from_date</th>\n",
       "      <th>to_date</th>\n",
       "    </tr>\n",
       "  </thead>\n",
       "  <tbody>\n",
       "    <tr>\n",
       "      <th>0</th>\n",
       "      <td>10001</td>\n",
       "      <td>88958</td>\n",
       "      <td>2002-06-22</td>\n",
       "      <td>9999-01-01</td>\n",
       "    </tr>\n",
       "    <tr>\n",
       "      <th>1</th>\n",
       "      <td>10002</td>\n",
       "      <td>72527</td>\n",
       "      <td>2001-08-02</td>\n",
       "      <td>9999-01-01</td>\n",
       "    </tr>\n",
       "    <tr>\n",
       "      <th>2</th>\n",
       "      <td>10003</td>\n",
       "      <td>43311</td>\n",
       "      <td>2001-12-01</td>\n",
       "      <td>9999-01-01</td>\n",
       "    </tr>\n",
       "    <tr>\n",
       "      <th>3</th>\n",
       "      <td>10004</td>\n",
       "      <td>74057</td>\n",
       "      <td>2001-11-27</td>\n",
       "      <td>9999-01-01</td>\n",
       "    </tr>\n",
       "    <tr>\n",
       "      <th>4</th>\n",
       "      <td>10005</td>\n",
       "      <td>94692</td>\n",
       "      <td>2001-09-09</td>\n",
       "      <td>9999-01-01</td>\n",
       "    </tr>\n",
       "    <tr>\n",
       "      <th>...</th>\n",
       "      <td>...</td>\n",
       "      <td>...</td>\n",
       "      <td>...</td>\n",
       "      <td>...</td>\n",
       "    </tr>\n",
       "    <tr>\n",
       "      <th>240119</th>\n",
       "      <td>499995</td>\n",
       "      <td>52868</td>\n",
       "      <td>2002-06-01</td>\n",
       "      <td>9999-01-01</td>\n",
       "    </tr>\n",
       "    <tr>\n",
       "      <th>240120</th>\n",
       "      <td>499996</td>\n",
       "      <td>69501</td>\n",
       "      <td>2002-05-12</td>\n",
       "      <td>9999-01-01</td>\n",
       "    </tr>\n",
       "    <tr>\n",
       "      <th>240121</th>\n",
       "      <td>499997</td>\n",
       "      <td>83441</td>\n",
       "      <td>2001-08-26</td>\n",
       "      <td>9999-01-01</td>\n",
       "    </tr>\n",
       "    <tr>\n",
       "      <th>240122</th>\n",
       "      <td>499998</td>\n",
       "      <td>55003</td>\n",
       "      <td>2001-12-25</td>\n",
       "      <td>9999-01-01</td>\n",
       "    </tr>\n",
       "    <tr>\n",
       "      <th>240123</th>\n",
       "      <td>499999</td>\n",
       "      <td>77303</td>\n",
       "      <td>2001-11-29</td>\n",
       "      <td>9999-01-01</td>\n",
       "    </tr>\n",
       "  </tbody>\n",
       "</table>\n",
       "<p>240124 rows × 4 columns</p>\n",
       "</div>"
      ],
      "text/plain": [
       "        emp_no  salary   from_date     to_date\n",
       "0        10001   88958  2002-06-22  9999-01-01\n",
       "1        10002   72527  2001-08-02  9999-01-01\n",
       "2        10003   43311  2001-12-01  9999-01-01\n",
       "3        10004   74057  2001-11-27  9999-01-01\n",
       "4        10005   94692  2001-09-09  9999-01-01\n",
       "...        ...     ...         ...         ...\n",
       "240119  499995   52868  2002-06-01  9999-01-01\n",
       "240120  499996   69501  2002-05-12  9999-01-01\n",
       "240121  499997   83441  2001-08-26  9999-01-01\n",
       "240122  499998   55003  2001-12-25  9999-01-01\n",
       "240123  499999   77303  2001-11-29  9999-01-01\n",
       "\n",
       "[240124 rows x 4 columns]"
      ]
     },
     "execution_count": 25,
     "metadata": {},
     "output_type": "execute_result"
    }
   ],
   "source": [
    "#Now connect to database and get current employee salary info\n",
    "employees_url = f'mysql+pymysql://{user}:{password}@{host}/employees'\n",
    "employees_query = \"SELECT * FROM salaries WHERE to_date > CURDATE()\"\n",
    "employees = pd.read_sql(employees_query, employees_url)\n",
    "employees"
   ]
  },
  {
   "cell_type": "code",
   "execution_count": 27,
   "id": "7172ef0e",
   "metadata": {},
   "outputs": [
    {
     "data": {
      "text/plain": [
       "72012.23585730705"
      ]
     },
     "execution_count": 27,
     "metadata": {},
     "output_type": "execute_result"
    }
   ],
   "source": [
    "avg_salary = employees.salary.mean()\n",
    "avg_salary"
   ]
  },
  {
   "cell_type": "code",
   "execution_count": 28,
   "id": "8d486fc8",
   "metadata": {},
   "outputs": [
    {
     "data": {
      "text/plain": [
       "17309.995380252043"
      ]
     },
     "execution_count": 28,
     "metadata": {},
     "output_type": "execute_result"
    }
   ],
   "source": [
    "salary_stddev = employees.salary.std()\n",
    "salary_stddev"
   ]
  },
  {
   "cell_type": "markdown",
   "id": "eb92bb3d",
   "metadata": {},
   "source": [
    "### What percent of employees earn less than 60,000?"
   ]
  },
  {
   "cell_type": "code",
   "execution_count": 29,
   "id": "d04f14e8",
   "metadata": {},
   "outputs": [
    {
     "data": {
      "text/plain": [
       "0.24385742480214506"
      ]
     },
     "execution_count": 29,
     "metadata": {},
     "output_type": "execute_result"
    }
   ],
   "source": [
    "#Modeled with normal distribution:\n",
    "stats.norm(avg_salary, salary_stddev).cdf(60_000)"
   ]
  },
  {
   "cell_type": "code",
   "execution_count": 30,
   "id": "2c78fad2",
   "metadata": {},
   "outputs": [
    {
     "data": {
      "text/plain": [
       "0.2705727041028802"
      ]
     },
     "execution_count": 30,
     "metadata": {},
     "output_type": "execute_result"
    }
   ],
   "source": [
    "#Using actual values:\n",
    "len(employees[employees.salary < 60_000]) / len(employees)"
   ]
  },
  {
   "cell_type": "markdown",
   "id": "40e3dbee",
   "metadata": {},
   "source": [
    "### What percent of employees earn more than 95,000?"
   ]
  },
  {
   "cell_type": "code",
   "execution_count": 31,
   "id": "42bed271",
   "metadata": {},
   "outputs": [
    {
     "data": {
      "text/plain": [
       "0.0920881919980413"
      ]
     },
     "execution_count": 31,
     "metadata": {},
     "output_type": "execute_result"
    }
   ],
   "source": [
    "#Modeled with normal distribution:\n",
    "stats.norm(avg_salary, salary_stddev).sf(95_000)"
   ]
  },
  {
   "cell_type": "code",
   "execution_count": 33,
   "id": "ffdebdeb",
   "metadata": {},
   "outputs": [
    {
     "data": {
      "text/plain": [
       "0.1086272092752078"
      ]
     },
     "execution_count": 33,
     "metadata": {},
     "output_type": "execute_result"
    }
   ],
   "source": [
    "#Using actual values:\n",
    "len(employees[employees.salary > 95_000]) / len(employees)"
   ]
  },
  {
   "cell_type": "markdown",
   "id": "5d898d6f",
   "metadata": {},
   "source": [
    "### What percent of employees earn between 65,000 and 80,000?\n"
   ]
  },
  {
   "cell_type": "code",
   "execution_count": 34,
   "id": "00e4e8b0",
   "metadata": {},
   "outputs": [
    {
     "data": {
      "text/plain": [
       "0.3350605685446655"
      ]
     },
     "execution_count": 34,
     "metadata": {},
     "output_type": "execute_result"
    }
   ],
   "source": [
    "#Modeled with normal distribution\n",
    "stats.norm(avg_salary, salary_stddev).cdf(80_000) - stats.norm(avg_salary, salary_stddev).cdf(65_000)"
   ]
  },
  {
   "cell_type": "code",
   "execution_count": 35,
   "id": "b3fc6f3a",
   "metadata": {},
   "outputs": [
    {
     "data": {
      "text/plain": [
       "0.32515700221552196"
      ]
     },
     "execution_count": 35,
     "metadata": {},
     "output_type": "execute_result"
    }
   ],
   "source": [
    "#Using actual values\n",
    "len(employees[(employees.salary >= 65_000) & (employees.salary <= 80_000)]) / len(employees)"
   ]
  },
  {
   "cell_type": "markdown",
   "id": "57c02e6e",
   "metadata": {},
   "source": [
    "### What do the top 5% of employees make?"
   ]
  },
  {
   "cell_type": "code",
   "execution_count": 38,
   "id": "f71ed20a",
   "metadata": {},
   "outputs": [
    {
     "data": {
      "text/plain": [
       "100484.64454102785"
      ]
     },
     "execution_count": 38,
     "metadata": {},
     "output_type": "execute_result"
    }
   ],
   "source": [
    "#Modeled with normal distribution\n",
    "stats.norm(avg_salary, salary_stddev).ppf(.95)"
   ]
  },
  {
   "cell_type": "code",
   "execution_count": 40,
   "id": "91a6c9e7",
   "metadata": {},
   "outputs": [
    {
     "data": {
      "text/plain": [
       "100484.64454102787"
      ]
     },
     "execution_count": 40,
     "metadata": {},
     "output_type": "execute_result"
    }
   ],
   "source": [
    "#Same thing, but different method\n",
    "stats.norm(avg_salary, salary_stddev).isf(.05)"
   ]
  },
  {
   "cell_type": "code",
   "execution_count": 41,
   "id": "4d812066",
   "metadata": {},
   "outputs": [
    {
     "data": {
      "text/plain": [
       "104225.84999999998"
      ]
     },
     "execution_count": 41,
     "metadata": {},
     "output_type": "execute_result"
    }
   ],
   "source": [
    "#Using actual values\n",
    "employees.salary.quantile(.95)"
   ]
  },
  {
   "cell_type": "code",
   "execution_count": null,
   "id": "5a439607",
   "metadata": {},
   "outputs": [],
   "source": []
  }
 ],
 "metadata": {
  "kernelspec": {
   "display_name": "Python 3",
   "language": "python",
   "name": "python3"
  },
  "language_info": {
   "codemirror_mode": {
    "name": "ipython",
    "version": 3
   },
   "file_extension": ".py",
   "mimetype": "text/x-python",
   "name": "python",
   "nbconvert_exporter": "python",
   "pygments_lexer": "ipython3",
   "version": "3.9.1"
  }
 },
 "nbformat": 4,
 "nbformat_minor": 5
}
