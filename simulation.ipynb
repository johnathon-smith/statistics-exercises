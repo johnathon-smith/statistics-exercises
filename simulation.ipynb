{
 "cells": [
  {
   "cell_type": "code",
   "execution_count": 1,
   "id": "3cea7add",
   "metadata": {},
   "outputs": [],
   "source": [
    "import numpy as np\n",
    "import pandas as pd"
   ]
  },
  {
   "cell_type": "markdown",
   "id": "a827aee7",
   "metadata": {},
   "source": [
    "### How likely is it that you roll doubles when rolling two dice?"
   ]
  },
  {
   "cell_type": "code",
   "execution_count": 2,
   "id": "2fe94f20",
   "metadata": {},
   "outputs": [
    {
     "data": {
      "text/plain": [
       "array([[4, 4],\n",
       "       [1, 3],\n",
       "       [1, 6],\n",
       "       ...,\n",
       "       [4, 4],\n",
       "       [4, 3],\n",
       "       [4, 3]])"
      ]
     },
     "execution_count": 2,
     "metadata": {},
     "output_type": "execute_result"
    }
   ],
   "source": [
    "outcomes = [1,2,3,4,5,6]\n",
    "n_simulations = 100_000\n",
    "n_trials = 2\n",
    "\n",
    "rolls = np.random.choice(outcomes, size = (n_simulations, n_trials))\n",
    "rolls"
   ]
  },
  {
   "cell_type": "code",
   "execution_count": 3,
   "id": "ea3949d1",
   "metadata": {},
   "outputs": [
    {
     "data": {
      "text/plain": [
       "0.16595"
      ]
     },
     "execution_count": 3,
     "metadata": {},
     "output_type": "execute_result"
    }
   ],
   "source": [
    "#convert to DF so that we can apply a lambda function\n",
    "pd.DataFrame(rolls).apply(lambda row: row[0]==row[1], axis=1).mean()"
   ]
  },
  {
   "cell_type": "markdown",
   "id": "9a8a91de",
   "metadata": {},
   "source": [
    "### If you flip 8 coins, what is the probability of getting exactly 3 heads? What is the probability of getting more than 3 heads?"
   ]
  },
  {
   "cell_type": "code",
   "execution_count": 8,
   "id": "b1db110e",
   "metadata": {},
   "outputs": [
    {
     "data": {
      "text/plain": [
       "array([[1, 0, 0, 0, 1, 0, 0, 1],\n",
       "       [0, 1, 1, 1, 0, 1, 0, 0],\n",
       "       [1, 0, 1, 1, 1, 1, 0, 0],\n",
       "       [0, 1, 0, 1, 0, 0, 0, 0],\n",
       "       [0, 1, 1, 1, 1, 0, 1, 0],\n",
       "       [1, 1, 0, 0, 0, 1, 1, 0],\n",
       "       [0, 1, 1, 1, 0, 0, 0, 0],\n",
       "       [1, 1, 1, 0, 1, 1, 1, 0],\n",
       "       [0, 1, 1, 1, 0, 0, 0, 0],\n",
       "       [0, 0, 1, 1, 1, 1, 0, 0]])"
      ]
     },
     "execution_count": 8,
     "metadata": {},
     "output_type": "execute_result"
    }
   ],
   "source": [
    "#Heads = 1, Tails = 0\n",
    "outcomes = [1,0]\n",
    "n_simulations = 100_000\n",
    "n_trials = 8\n",
    "\n",
    "flips = np.random.choice(outcomes, size = (n_simulations, n_trials))\n",
    "flips[0:10]"
   ]
  },
  {
   "cell_type": "code",
   "execution_count": 11,
   "id": "1e2d3838",
   "metadata": {},
   "outputs": [
    {
     "data": {
      "text/plain": [
       "0.21874"
      ]
     },
     "execution_count": 11,
     "metadata": {},
     "output_type": "execute_result"
    }
   ],
   "source": [
    "#convert to dataframe\n",
    "#This is for exactly 3 heads\n",
    "pd.DataFrame(flips).apply(lambda row: row.sum() == 3, axis = 1).mean()"
   ]
  },
  {
   "cell_type": "code",
   "execution_count": 12,
   "id": "7aa0da89",
   "metadata": {},
   "outputs": [
    {
     "data": {
      "text/plain": [
       "0.63546"
      ]
     },
     "execution_count": 12,
     "metadata": {},
     "output_type": "execute_result"
    }
   ],
   "source": [
    "#This is for more than 3 heads\n",
    "pd.DataFrame(flips).apply(lambda row: row.sum() > 3, axis = 1).mean()"
   ]
  },
  {
   "cell_type": "markdown",
   "id": "aa9b0652",
   "metadata": {},
   "source": [
    "### There are approximitely 3 web development cohorts for every 1 data science cohort at Codeup. Assuming that Codeup randomly selects an alumni to put on a billboard, what are the odds that the two billboards I drive past both have data science students on them?"
   ]
  },
  {
   "cell_type": "code",
   "execution_count": 14,
   "id": "34390e7b",
   "metadata": {},
   "outputs": [
    {
     "data": {
      "text/plain": [
       "array([[0, 0],\n",
       "       [0, 0],\n",
       "       [1, 1],\n",
       "       [0, 0],\n",
       "       [0, 1],\n",
       "       [0, 1],\n",
       "       [0, 0],\n",
       "       [0, 0],\n",
       "       [1, 0],\n",
       "       [1, 0]])"
      ]
     },
     "execution_count": 14,
     "metadata": {},
     "output_type": "execute_result"
    }
   ],
   "source": [
    "#data science = 1, web development = 0\n",
    "outcomes = [0, 0, 0, 1]\n",
    "n_simulations = 100_000\n",
    "n_trials = 2\n",
    "\n",
    "choices = np.random.choice(outcomes, size = (n_simulations, n_trials))\n",
    "choices[0:10]"
   ]
  },
  {
   "cell_type": "code",
   "execution_count": 15,
   "id": "8ac3aba3",
   "metadata": {},
   "outputs": [
    {
     "data": {
      "text/plain": [
       "0.06262"
      ]
     },
     "execution_count": 15,
     "metadata": {},
     "output_type": "execute_result"
    }
   ],
   "source": [
    "(choices.sum(axis=1) == 2).mean()"
   ]
  },
  {
   "cell_type": "code",
   "execution_count": 16,
   "id": "50c6da94",
   "metadata": {},
   "outputs": [
    {
     "data": {
      "text/plain": [
       "0.06262"
      ]
     },
     "execution_count": 16,
     "metadata": {},
     "output_type": "execute_result"
    }
   ],
   "source": [
    "#Same as above but in a different way\n",
    "pd.DataFrame(choices).apply(lambda row: row.sum() == 2, axis = 1).mean()"
   ]
  },
  {
   "cell_type": "markdown",
   "id": "5981937a",
   "metadata": {},
   "source": [
    "### Codeup students buy, on average, 3 poptart packages (+- 1.5) a day from the snack vending machine. If on monday the machine is restocked with 17 poptart packages, how likely is it that I will be able to buy some poptarts on Friday afternoon?"
   ]
  },
  {
   "cell_type": "code",
   "execution_count": 17,
   "id": "aee466ef",
   "metadata": {},
   "outputs": [
    {
     "data": {
      "text/plain": [
       "array([[ 5.49791481,  3.25105683,  3.39565659,  2.55897498,  2.99659436],\n",
       "       [ 2.93086179,  2.34147031,  5.2737142 ,  2.11887872,  3.45104041],\n",
       "       [ 7.00905427,  4.74858522,  0.62369791,  1.74356126,  0.42928376],\n",
       "       ...,\n",
       "       [ 2.81332871,  3.41356613,  1.20171401,  5.7028992 ,  4.3675177 ],\n",
       "       [ 2.8264138 ,  4.46482791,  2.07187242,  1.44772245,  2.47896394],\n",
       "       [ 3.96418063, -0.46989248,  4.23958121,  2.0875942 ,  0.95872726]])"
      ]
     },
     "execution_count": 17,
     "metadata": {},
     "output_type": "execute_result"
    }
   ],
   "source": [
    "n_simulations = 100_000\n",
    "n_trials = 5\n",
    "\n",
    "poptarts = np.random.normal(3,1.5, size = (n_simulations, n_trials))\n",
    "poptarts"
   ]
  },
  {
   "cell_type": "code",
   "execution_count": 18,
   "id": "0979a4ba",
   "metadata": {},
   "outputs": [
    {
     "data": {
      "text/plain": [
       "0.72285"
      ]
     },
     "execution_count": 18,
     "metadata": {},
     "output_type": "execute_result"
    }
   ],
   "source": [
    "(poptarts.sum(axis = 1) < 17).mean()"
   ]
  },
  {
   "cell_type": "markdown",
   "id": "dd1c9da1",
   "metadata": {},
   "source": [
    "### Compare Heights\n",
    "    - Men have an average height of 178 cm and standard deviation of 8cm.\n",
    "    - Women have a mean of 170, sd = 6cm.\n",
    "    - Since you have means and standard deviations, you can use np.random.normal to \n",
    "        generate observations.\n",
    "    -If a man and woman are chosen at random, P(woman taller than man)?"
   ]
  },
  {
   "cell_type": "code",
   "execution_count": 19,
   "id": "3be485af",
   "metadata": {},
   "outputs": [
    {
     "data": {
      "text/plain": [
       "array([183.784776  , 182.63582221, 168.72475462, ..., 175.90146164,\n",
       "       185.15628831, 169.54637074])"
      ]
     },
     "execution_count": 19,
     "metadata": {},
     "output_type": "execute_result"
    }
   ],
   "source": [
    "n_simulations = 100_000\n",
    "\n",
    "men_heights = np.random.normal(178, 8, size = n_simulations)\n",
    "men_heights"
   ]
  },
  {
   "cell_type": "code",
   "execution_count": 20,
   "id": "4ff88815",
   "metadata": {},
   "outputs": [
    {
     "data": {
      "text/plain": [
       "array([175.04544051, 166.27227274, 170.206257  , ..., 162.96772269,\n",
       "       170.11314161, 184.05558536])"
      ]
     },
     "execution_count": 20,
     "metadata": {},
     "output_type": "execute_result"
    }
   ],
   "source": [
    "women_heights = np.random.normal(170, 6, size = n_simulations)\n",
    "women_heights"
   ]
  },
  {
   "cell_type": "code",
   "execution_count": 21,
   "id": "46fc8ac0",
   "metadata": {},
   "outputs": [
    {
     "data": {
      "text/plain": [
       "0.21114"
      ]
     },
     "execution_count": 21,
     "metadata": {},
     "output_type": "execute_result"
    }
   ],
   "source": [
    "(women_heights > men_heights).mean()"
   ]
  },
  {
   "cell_type": "markdown",
   "id": "8aa66ebd",
   "metadata": {},
   "source": [
    "### When installing anaconda on a student's computer, there's a 1 in 250 chance that the download is corrupted and the installation fails. What are the odds that after having 50 students download anaconda, no one has an installation issue? 100 students?"
   ]
  },
  {
   "cell_type": "code",
   "execution_count": 24,
   "id": "46fca456",
   "metadata": {},
   "outputs": [
    {
     "data": {
      "text/plain": [
       "array([[0, 0, 0, ..., 0, 0, 0],\n",
       "       [0, 0, 0, ..., 0, 0, 0],\n",
       "       [0, 0, 0, ..., 0, 0, 0],\n",
       "       ...,\n",
       "       [0, 0, 0, ..., 0, 0, 0],\n",
       "       [0, 0, 0, ..., 0, 0, 0],\n",
       "       [0, 0, 0, ..., 0, 0, 0]])"
      ]
     },
     "execution_count": 24,
     "metadata": {},
     "output_type": "execute_result"
    }
   ],
   "source": [
    "#Success = 0, Failure = 1\n",
    "outcomes = [0,1]\n",
    "n_simulations = 100_000\n",
    "n_trials = 50\n",
    "\n",
    "installations = np.random.choice(outcomes, size = (n_simulations, n_trials), p=[(1-1/250), (1/250)])\n",
    "installations\n"
   ]
  },
  {
   "cell_type": "code",
   "execution_count": 25,
   "id": "85e62a51",
   "metadata": {},
   "outputs": [
    {
     "data": {
      "text/plain": [
       "0.8182"
      ]
     },
     "execution_count": 25,
     "metadata": {},
     "output_type": "execute_result"
    }
   ],
   "source": [
    "#For 50 installations\n",
    "(installations.sum(axis=1) == 0).mean()"
   ]
  },
  {
   "cell_type": "code",
   "execution_count": 26,
   "id": "187bfd31",
   "metadata": {},
   "outputs": [
    {
     "data": {
      "text/plain": [
       "array([[0, 0, 0, ..., 0, 0, 0],\n",
       "       [0, 0, 0, ..., 0, 0, 0],\n",
       "       [0, 0, 0, ..., 0, 0, 0],\n",
       "       ...,\n",
       "       [0, 0, 0, ..., 0, 0, 0],\n",
       "       [0, 0, 0, ..., 0, 0, 0],\n",
       "       [0, 0, 0, ..., 0, 0, 0]])"
      ]
     },
     "execution_count": 26,
     "metadata": {},
     "output_type": "execute_result"
    }
   ],
   "source": [
    "#For 100 installations\n",
    "n_trials = 100\n",
    "installations = np.random.choice(outcomes, size = (n_simulations, n_trials), p = [(1-1/250), (1/250)])\n",
    "installations"
   ]
  },
  {
   "cell_type": "code",
   "execution_count": 27,
   "id": "386da7ab",
   "metadata": {},
   "outputs": [
    {
     "data": {
      "text/plain": [
       "0.67153"
      ]
     },
     "execution_count": 27,
     "metadata": {},
     "output_type": "execute_result"
    }
   ],
   "source": [
    "(installations.sum(axis=1) == 0).mean()"
   ]
  },
  {
   "cell_type": "markdown",
   "id": "44b5b194",
   "metadata": {},
   "source": [
    "### What is the probability that we observe an installation issue within the first 150 students that download anaconda?"
   ]
  },
  {
   "cell_type": "code",
   "execution_count": 28,
   "id": "a5538579",
   "metadata": {},
   "outputs": [
    {
     "data": {
      "text/plain": [
       "array([[0, 0, 1, ..., 0, 0, 0],\n",
       "       [0, 0, 0, ..., 0, 0, 0],\n",
       "       [0, 0, 0, ..., 0, 0, 0],\n",
       "       ...,\n",
       "       [0, 1, 0, ..., 0, 0, 0],\n",
       "       [0, 0, 0, ..., 0, 0, 0],\n",
       "       [0, 0, 0, ..., 0, 0, 0]])"
      ]
     },
     "execution_count": 28,
     "metadata": {},
     "output_type": "execute_result"
    }
   ],
   "source": [
    "n_trials = 150\n",
    "\n",
    "installations = np.random.choice(outcomes, size = (n_simulations, n_trials), p = [(1-1/250), (1/250)])\n",
    "installations"
   ]
  },
  {
   "cell_type": "code",
   "execution_count": 29,
   "id": "c6b19276",
   "metadata": {},
   "outputs": [
    {
     "data": {
      "text/plain": [
       "0.45321"
      ]
     },
     "execution_count": 29,
     "metadata": {},
     "output_type": "execute_result"
    }
   ],
   "source": [
    "(installations.sum(axis=1) >= 1).mean()"
   ]
  },
  {
   "cell_type": "markdown",
   "id": "f0c2075a",
   "metadata": {},
   "source": [
    "### How likely is it that 450 students all download anaconda without an issue?"
   ]
  },
  {
   "cell_type": "code",
   "execution_count": 30,
   "id": "bf580876",
   "metadata": {},
   "outputs": [
    {
     "data": {
      "text/plain": [
       "array([[0, 0, 0, ..., 0, 0, 0],\n",
       "       [0, 0, 0, ..., 0, 0, 0],\n",
       "       [0, 0, 0, ..., 0, 0, 0],\n",
       "       ...,\n",
       "       [0, 0, 0, ..., 0, 0, 0],\n",
       "       [0, 0, 0, ..., 0, 0, 0],\n",
       "       [0, 0, 0, ..., 0, 0, 0]])"
      ]
     },
     "execution_count": 30,
     "metadata": {},
     "output_type": "execute_result"
    }
   ],
   "source": [
    "n_trials = 450\n",
    "\n",
    "installations = np.random.choice(outcomes, size = (n_simulations, n_trials), p = [(1-1/250), (1/250)])\n",
    "installations"
   ]
  },
  {
   "cell_type": "code",
   "execution_count": 31,
   "id": "babf7496",
   "metadata": {},
   "outputs": [
    {
     "data": {
      "text/plain": [
       "0.16684"
      ]
     },
     "execution_count": 31,
     "metadata": {},
     "output_type": "execute_result"
    }
   ],
   "source": [
    "(installations.sum(axis=1) == 0).mean()"
   ]
  },
  {
   "cell_type": "markdown",
   "id": "54c40cf4",
   "metadata": {},
   "source": [
    "### There's a 70% chance on any given day that there will be at least one food truck at Travis Park. However, you haven't seen a food truck there in 3 days. How unlikely is this?"
   ]
  },
  {
   "cell_type": "code",
   "execution_count": 32,
   "id": "5d86b9ff",
   "metadata": {},
   "outputs": [
    {
     "data": {
      "text/plain": [
       "array([[1, 0, 0],\n",
       "       [0, 1, 1],\n",
       "       [1, 0, 0],\n",
       "       ...,\n",
       "       [1, 0, 0],\n",
       "       [0, 0, 1],\n",
       "       [1, 1, 1]])"
      ]
     },
     "execution_count": 32,
     "metadata": {},
     "output_type": "execute_result"
    }
   ],
   "source": [
    "#Success = 1, Failure = 0\n",
    "outcomes = [1,0]\n",
    "n_simulations = 100_000\n",
    "n_trials = 3\n",
    "\n",
    "trucks = np.random.choice(outcomes, size = (n_simulations, n_trials), p = [.7, .3])\n",
    "trucks"
   ]
  },
  {
   "cell_type": "code",
   "execution_count": 33,
   "id": "5d09b610",
   "metadata": {},
   "outputs": [
    {
     "data": {
      "text/plain": [
       "0.02746"
      ]
     },
     "execution_count": 33,
     "metadata": {},
     "output_type": "execute_result"
    }
   ],
   "source": [
    "#In terms of likelihood to happen\n",
    "(trucks.sum(axis=1) == 0).mean()"
   ]
  },
  {
   "cell_type": "code",
   "execution_count": 34,
   "id": "47d1636a",
   "metadata": {},
   "outputs": [
    {
     "data": {
      "text/plain": [
       "0.97254"
      ]
     },
     "execution_count": 34,
     "metadata": {},
     "output_type": "execute_result"
    }
   ],
   "source": [
    "#In terms of likelihood not to happen\n",
    "1 - (trucks.sum(axis=1) == 0).mean()"
   ]
  },
  {
   "cell_type": "markdown",
   "id": "196406d1",
   "metadata": {},
   "source": [
    "### How likely is it that a food truck will show up sometime this week?"
   ]
  },
  {
   "cell_type": "code",
   "execution_count": 35,
   "id": "13dbab9e",
   "metadata": {},
   "outputs": [
    {
     "data": {
      "text/plain": [
       "array([[1, 1, 0, ..., 1, 1, 1],\n",
       "       [0, 1, 1, ..., 1, 0, 0],\n",
       "       [1, 1, 1, ..., 1, 1, 1],\n",
       "       ...,\n",
       "       [1, 0, 0, ..., 1, 0, 1],\n",
       "       [1, 0, 0, ..., 0, 1, 1],\n",
       "       [1, 1, 1, ..., 1, 1, 1]])"
      ]
     },
     "execution_count": 35,
     "metadata": {},
     "output_type": "execute_result"
    }
   ],
   "source": [
    "#Assuming the week is 7 days, not 5\n",
    "n_trials = 7\n",
    "\n",
    "trucks = np.random.choice(outcomes, size = (n_simulations, n_trials), p = [.7, .3])\n",
    "trucks"
   ]
  },
  {
   "cell_type": "code",
   "execution_count": 36,
   "id": "3568f265",
   "metadata": {},
   "outputs": [
    {
     "data": {
      "text/plain": [
       "0.99976"
      ]
     },
     "execution_count": 36,
     "metadata": {},
     "output_type": "execute_result"
    }
   ],
   "source": [
    "(trucks.sum(axis=1) >= 1).mean()"
   ]
  },
  {
   "cell_type": "markdown",
   "id": "b074094a",
   "metadata": {},
   "source": [
    "### If 23 people are in the same room, what are the odds that two of them share a birthday? What if it's 20 people? 40?"
   ]
  },
  {
   "cell_type": "code",
   "execution_count": 66,
   "id": "9cb2cc3e",
   "metadata": {},
   "outputs": [
    {
     "data": {
      "text/plain": [
       "array([[284, 240, 119, 209, 107, 282, 278,  42, 178,  27, 233, 200, 331,\n",
       "         54,  26, 311, 172, 125, 110, 144,  34, 107, 241],\n",
       "       [167, 316, 160,  33, 195, 316, 303, 208, 169,  32, 326,  89, 186,\n",
       "        166,   7, 279,  51,  26, 141, 323, 206,  68,  32],\n",
       "       [192, 160, 328,  61, 214, 102, 201, 308, 271, 122, 213, 294,  91,\n",
       "         68, 194, 226, 306, 261, 105, 167, 230, 260, 217],\n",
       "       [189, 281, 170,  10, 351, 151, 318, 153,  62, 132, 210, 134,  29,\n",
       "         55, 234, 194, 149,  39, 158, 159, 184, 306, 328],\n",
       "       [320, 290,  26,  49,  15,  94, 110, 301,  59, 250, 262, 321, 191,\n",
       "         12,  28, 157, 347, 269, 221, 294, 263, 327, 322],\n",
       "       [343, 353, 246, 168, 364, 107,  72, 201, 207, 159, 186,  38, 137,\n",
       "         49, 143,  97, 256,  64, 334, 192, 262, 307, 161],\n",
       "       [ 73, 313, 345,  28, 337, 281, 133, 216, 225, 324, 350, 344, 173,\n",
       "         12,  71, 120,  42, 256, 130,  89, 209, 216, 198],\n",
       "       [ 53, 149, 115, 185, 270, 351, 254,  71,  67, 253, 123, 276, 317,\n",
       "         46, 170, 283, 121, 289, 117, 143, 221,  96,  99],\n",
       "       [226, 227, 144,  63, 134, 363, 156,  79, 325, 136,  71, 161,  66,\n",
       "        180,  75,  89, 348, 276, 208, 335,  12, 332, 291],\n",
       "       [322, 181,   2,  54, 344,  37,  41, 248, 121, 190, 125, 312,  73,\n",
       "        172,  31, 299, 301, 302, 184,  57, 365,   9, 127]])"
      ]
     },
     "execution_count": 66,
     "metadata": {},
     "output_type": "execute_result"
    }
   ],
   "source": [
    "n_simulations = 100_000\n",
    "n_trials = 23\n",
    "\n",
    "birthdays = np.random.randint(1,366, size = (n_simulations, n_trials))\n",
    "birthdays[0:10]"
   ]
  },
  {
   "cell_type": "code",
   "execution_count": 67,
   "id": "491bbd94",
   "metadata": {},
   "outputs": [
    {
     "data": {
      "text/plain": [
       "0.5086"
      ]
     },
     "execution_count": 67,
     "metadata": {},
     "output_type": "execute_result"
    }
   ],
   "source": [
    "(pd.DataFrame(birthdays).nunique(axis = 1) < n_trials).mean()"
   ]
  },
  {
   "cell_type": "code",
   "execution_count": 68,
   "id": "e04e3f47",
   "metadata": {},
   "outputs": [
    {
     "data": {
      "text/plain": [
       "array([[352,   1,  86, ..., 305,  47, 110],\n",
       "       [ 74, 121, 122, ..., 311, 148, 225],\n",
       "       [ 87,  97, 249, ..., 365,  66, 238],\n",
       "       ...,\n",
       "       [201, 197,   6, ..., 263, 231,  32],\n",
       "       [  1,  39, 222, ..., 201, 180, 332],\n",
       "       [155,  17, 150, ..., 345, 168, 299]])"
      ]
     },
     "execution_count": 68,
     "metadata": {},
     "output_type": "execute_result"
    }
   ],
   "source": [
    "#For 20 people\n",
    "n_trials = 20\n",
    "\n",
    "birthdays = np.random.randint(1,366, size = (n_simulations, n_trials))\n",
    "birthdays"
   ]
  },
  {
   "cell_type": "code",
   "execution_count": 69,
   "id": "caafb8f9",
   "metadata": {},
   "outputs": [
    {
     "data": {
      "text/plain": [
       "0.40924"
      ]
     },
     "execution_count": 69,
     "metadata": {},
     "output_type": "execute_result"
    }
   ],
   "source": [
    "(pd.DataFrame(birthdays).nunique(axis = 1) < n_trials).mean()"
   ]
  },
  {
   "cell_type": "code",
   "execution_count": 70,
   "id": "a0904711",
   "metadata": {},
   "outputs": [
    {
     "data": {
      "text/plain": [
       "array([[175,  72, 226, ..., 177,   8, 223],\n",
       "       [358,  38, 241, ..., 184, 128, 189],\n",
       "       [ 89, 163, 322, ..., 318,  65, 158],\n",
       "       ...,\n",
       "       [304, 290,  78, ..., 106, 177, 210],\n",
       "       [244,  36, 284, ...,  62,  46, 215],\n",
       "       [151, 288,   1, ..., 345, 244,  96]])"
      ]
     },
     "execution_count": 70,
     "metadata": {},
     "output_type": "execute_result"
    }
   ],
   "source": [
    "#For 40 people\n",
    "n_trials = 40\n",
    "\n",
    "birthdays = np.random.randint(1,366, size = (n_simulations, n_trials))\n",
    "birthdays"
   ]
  },
  {
   "cell_type": "code",
   "execution_count": 71,
   "id": "5fd0af71",
   "metadata": {},
   "outputs": [
    {
     "data": {
      "text/plain": [
       "0.8925"
      ]
     },
     "execution_count": 71,
     "metadata": {},
     "output_type": "execute_result"
    }
   ],
   "source": [
    "(pd.DataFrame(birthdays).nunique(axis = 1) < n_trials).mean()"
   ]
  },
  {
   "cell_type": "code",
   "execution_count": null,
   "id": "651b6183",
   "metadata": {},
   "outputs": [],
   "source": []
  }
 ],
 "metadata": {
  "kernelspec": {
   "display_name": "Python 3",
   "language": "python",
   "name": "python3"
  },
  "language_info": {
   "codemirror_mode": {
    "name": "ipython",
    "version": 3
   },
   "file_extension": ".py",
   "mimetype": "text/x-python",
   "name": "python",
   "nbconvert_exporter": "python",
   "pygments_lexer": "ipython3",
   "version": "3.9.1"
  }
 },
 "nbformat": 4,
 "nbformat_minor": 5
}
